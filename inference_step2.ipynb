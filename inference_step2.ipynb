{
 "cells": [
  {
   "cell_type": "code",
   "execution_count": 1,
   "metadata": {},
   "outputs": [
    {
     "name": "stderr",
     "output_type": "stream",
     "text": [
      "/home/ai2lab/anaconda3/envs/qwen2/lib/python3.11/site-packages/tqdm/auto.py:21: TqdmWarning: IProgress not found. Please update jupyter and ipywidgets. See https://ipywidgets.readthedocs.io/en/stable/user_install.html\n",
      "  from .autonotebook import tqdm as notebook_tqdm\n",
      "Loading checkpoint shards: 100%|██████████| 9/9 [00:05<00:00,  1.51it/s]\n"
     ]
    }
   ],
   "source": [
    "# Use a pipeline as a high-level helper\n",
    "from transformers import pipeline\n",
    "import os\n",
    "\n",
    "os.environ[\"CUDA_DEVICE_ORDER\"]=\"PCI_BUS_ID\"   # see issue #152\n",
    "os.environ[\"CUDA_VISIBLE_DEVICES\"]=\"0,1\"\n",
    "\n",
    "pipe = pipeline(\"text-generation\", model=\"./LLaMA-Factory/models/tw_llama_step2\", device_map=\"auto\")"
   ]
  },
  {
   "cell_type": "code",
   "execution_count": 12,
   "metadata": {},
   "outputs": [
    {
     "name": "stderr",
     "output_type": "stream",
     "text": [
      "Loading checkpoint shards: 100%|██████████| 9/9 [00:05<00:00,  1.70it/s]\n"
     ]
    }
   ],
   "source": [
    "from transformers import AutoModelForCausalLM, AutoTokenizer, AutoProcessor\n",
    "\n",
    "PATH = './LLaMA-Factory/models/tw_llama_step2'\n",
    "tokenizer = AutoTokenizer.from_pretrained(PATH)\n",
    "model = AutoModelForCausalLM.from_pretrained(PATH, device_map='auto')\n",
    "processor = AutoProcessor.from_pretrained(PATH)"
   ]
  },
  {
   "cell_type": "code",
   "execution_count": 2,
   "metadata": {},
   "outputs": [
    {
     "data": {
      "text/html": [
       "<div>\n",
       "<style scoped>\n",
       "    .dataframe tbody tr th:only-of-type {\n",
       "        vertical-align: middle;\n",
       "    }\n",
       "\n",
       "    .dataframe tbody tr th {\n",
       "        vertical-align: top;\n",
       "    }\n",
       "\n",
       "    .dataframe thead th {\n",
       "        text-align: right;\n",
       "    }\n",
       "</style>\n",
       "<table border=\"1\" class=\"dataframe\">\n",
       "  <thead>\n",
       "    <tr style=\"text-align: right;\">\n",
       "      <th></th>\n",
       "      <th>id</th>\n",
       "      <th>TARGET</th>\n",
       "      <th>REF</th>\n",
       "    </tr>\n",
       "  </thead>\n",
       "  <tbody>\n",
       "    <tr>\n",
       "      <th>0</th>\n",
       "      <td>test_0</td>\n",
       "      <td>就業服務法第53條,就業服務法第54條</td>\n",
       "      <td>[就業服務法]</td>\n",
       "    </tr>\n",
       "    <tr>\n",
       "      <th>1</th>\n",
       "      <td>test_1</td>\n",
       "      <td>民法第1055條,民法第1094條,民法第1089條,民法第1084條</td>\n",
       "      <td>[民法]</td>\n",
       "    </tr>\n",
       "    <tr>\n",
       "      <th>2</th>\n",
       "      <td>test_2</td>\n",
       "      <td>全民健康保險法第84條,勞工保險條例第72條,勞工保險條例第11條,勞工保險條例第72條之1...</td>\n",
       "      <td>[勞工保險條例, 全民健康保險法]</td>\n",
       "    </tr>\n",
       "    <tr>\n",
       "      <th>3</th>\n",
       "      <td>test_3</td>\n",
       "      <td>民法第184條,民法第195條,民法第767條,民法第191條</td>\n",
       "      <td>[民法]</td>\n",
       "    </tr>\n",
       "    <tr>\n",
       "      <th>4</th>\n",
       "      <td>test_4</td>\n",
       "      <td>中華民國刑法第305條,中華民國刑法第304條,中華民國刑法第306條</td>\n",
       "      <td>[中華民國刑法]</td>\n",
       "    </tr>\n",
       "    <tr>\n",
       "      <th>...</th>\n",
       "      <td>...</td>\n",
       "      <td>...</td>\n",
       "      <td>...</td>\n",
       "    </tr>\n",
       "    <tr>\n",
       "      <th>195</th>\n",
       "      <td>test_195</td>\n",
       "      <td>土地徵收條例第28條,土地徵收條例第31條,土地徵收條例第10條,土地法第106條,土地法第...</td>\n",
       "      <td>[土地徵收條例, 土地法]</td>\n",
       "    </tr>\n",
       "    <tr>\n",
       "      <th>196</th>\n",
       "      <td>test_196</td>\n",
       "      <td>道路交通管理處罰條例第92條</td>\n",
       "      <td>[道路交通管理處罰條例]</td>\n",
       "    </tr>\n",
       "    <tr>\n",
       "      <th>197</th>\n",
       "      <td>test_197</td>\n",
       "      <td>行政訴訟法第3條,行政訴訟法第5條,行政訴訟法第8條,行政訴訟法第6條</td>\n",
       "      <td>[行政訴訟法]</td>\n",
       "    </tr>\n",
       "    <tr>\n",
       "      <th>198</th>\n",
       "      <td>test_198</td>\n",
       "      <td>勞動基準法第32條</td>\n",
       "      <td>[勞動基準法]</td>\n",
       "    </tr>\n",
       "    <tr>\n",
       "      <th>199</th>\n",
       "      <td>test_199</td>\n",
       "      <td>中華民國刑法第210條,中華民國刑法第220條,中華民國刑法第212條</td>\n",
       "      <td>[中華民國刑法]</td>\n",
       "    </tr>\n",
       "  </tbody>\n",
       "</table>\n",
       "<p>200 rows × 3 columns</p>\n",
       "</div>"
      ],
      "text/plain": [
       "           id                                             TARGET  \\\n",
       "0      test_0                                就業服務法第53條,就業服務法第54條   \n",
       "1      test_1                民法第1055條,民法第1094條,民法第1089條,民法第1084條   \n",
       "2      test_2  全民健康保險法第84條,勞工保險條例第72條,勞工保險條例第11條,勞工保險條例第72條之1...   \n",
       "3      test_3                    民法第184條,民法第195條,民法第767條,民法第191條   \n",
       "4      test_4                中華民國刑法第305條,中華民國刑法第304條,中華民國刑法第306條   \n",
       "..        ...                                                ...   \n",
       "195  test_195  土地徵收條例第28條,土地徵收條例第31條,土地徵收條例第10條,土地法第106條,土地法第...   \n",
       "196  test_196                                     道路交通管理處罰條例第92條   \n",
       "197  test_197                行政訴訟法第3條,行政訴訟法第5條,行政訴訟法第8條,行政訴訟法第6條   \n",
       "198  test_198                                          勞動基準法第32條   \n",
       "199  test_199                中華民國刑法第210條,中華民國刑法第220條,中華民國刑法第212條   \n",
       "\n",
       "                   REF  \n",
       "0              [就業服務法]  \n",
       "1                 [民法]  \n",
       "2    [勞工保險條例, 全民健康保險法]  \n",
       "3                 [民法]  \n",
       "4             [中華民國刑法]  \n",
       "..                 ...  \n",
       "195      [土地徵收條例, 土地法]  \n",
       "196       [道路交通管理處罰條例]  \n",
       "197            [行政訴訟法]  \n",
       "198            [勞動基準法]  \n",
       "199           [中華民國刑法]  \n",
       "\n",
       "[200 rows x 3 columns]"
      ]
     },
     "execution_count": 2,
     "metadata": {},
     "output_type": "execute_result"
    }
   ],
   "source": [
    "import pandas as pd\n",
    "file_path = \"./result.csv\" # get the prediction from stage 1\n",
    "\n",
    "step1_df = pd.read_csv(file_path)\n",
    "step1_df['REF'] = step1_df['TARGET'].apply(lambda x: list(set([t.split('第')[0] for t in x.split(',')])))\n",
    "step1_df"
   ]
  },
  {
   "cell_type": "code",
   "execution_count": 3,
   "metadata": {},
   "outputs": [],
   "source": [
    "# format test data\n",
    "test_data = {'id':[], 'situation':[]}\n",
    "with open('./data/test_data.jsonl', 'r') as file:\n",
    "    for line in file:\n",
    "        test_data['id'].append(line.split('\"id\":\"')[1].split('\",\"title\":')[0])\n",
    "        title = line.split('\",\"title\":\"')[1].split('\",\"question\":')[0]\n",
    "        question = line.split('\",\"question\":\"')[1].split('\"}')[0]\n",
    "        test_data['situation'].append(title+question if question!='NA' else title)"
   ]
  },
  {
   "cell_type": "code",
   "execution_count": 4,
   "metadata": {},
   "outputs": [],
   "source": [
    "test_df = pd.DataFrame(test_data)\n",
    "merge_df = pd.merge(step1_df, test_df, on='id')"
   ]
  },
  {
   "cell_type": "code",
   "execution_count": 5,
   "metadata": {},
   "outputs": [
    {
     "data": {
      "text/html": [
       "<div>\n",
       "<style scoped>\n",
       "    .dataframe tbody tr th:only-of-type {\n",
       "        vertical-align: middle;\n",
       "    }\n",
       "\n",
       "    .dataframe tbody tr th {\n",
       "        vertical-align: top;\n",
       "    }\n",
       "\n",
       "    .dataframe thead th {\n",
       "        text-align: right;\n",
       "    }\n",
       "</style>\n",
       "<table border=\"1\" class=\"dataframe\">\n",
       "  <thead>\n",
       "    <tr style=\"text-align: right;\">\n",
       "      <th></th>\n",
       "      <th>id</th>\n",
       "      <th>TARGET</th>\n",
       "      <th>REF</th>\n",
       "      <th>situation</th>\n",
       "    </tr>\n",
       "  </thead>\n",
       "  <tbody>\n",
       "    <tr>\n",
       "      <th>0</th>\n",
       "      <td>test_0</td>\n",
       "      <td>就業服務法第53條,就業服務法第54條</td>\n",
       "      <td>[就業服務法]</td>\n",
       "      <td>外籍勞工在合約到期後如何變更雇主?各位好,請教一下,如果外籍勞工在合約期滿後想要更換雇主,現...</td>\n",
       "    </tr>\n",
       "    <tr>\n",
       "      <th>1</th>\n",
       "      <td>test_1</td>\n",
       "      <td>民法第1055條,民法第1094條,民法第1089條,民法第1084條</td>\n",
       "      <td>[民法]</td>\n",
       "      <td>離婚後,我們雖然共同擁有監護權和扶養權,但前夫卻限制我與小孩進行通話、會面及同住。這樣的做法...</td>\n",
       "    </tr>\n",
       "    <tr>\n",
       "      <th>2</th>\n",
       "      <td>test_2</td>\n",
       "      <td>全民健康保險法第84條,勞工保險條例第72條,勞工保險條例第11條,勞工保險條例第72條之1...</td>\n",
       "      <td>[勞工保險條例, 全民健康保險法]</td>\n",
       "      <td>若未提交離職申請書,可能會引發哪些法律上的問題呢?因為只工作一天就離開,算不算試用期但最終選...</td>\n",
       "    </tr>\n",
       "    <tr>\n",
       "      <th>3</th>\n",
       "      <td>test_3</td>\n",
       "      <td>民法第184條,民法第195條,民法第767條,民法第191條</td>\n",
       "      <td>[民法]</td>\n",
       "      <td>自家樹葉自然而然掉落到樓下鄰居的地方,是否會涉及到任何法律上的違規行為?</td>\n",
       "    </tr>\n",
       "    <tr>\n",
       "      <th>4</th>\n",
       "      <td>test_4</td>\n",
       "      <td>中華民國刑法第305條,中華民國刑法第304條,中華民國刑法第306條</td>\n",
       "      <td>[中華民國刑法]</td>\n",
       "      <td>為了維護公共利益而奪取他人手機在電影院觀影時,如果我注意到前方有一位男子A在進行盜錄,出於保...</td>\n",
       "    </tr>\n",
       "  </tbody>\n",
       "</table>\n",
       "</div>"
      ],
      "text/plain": [
       "       id                                             TARGET  \\\n",
       "0  test_0                                就業服務法第53條,就業服務法第54條   \n",
       "1  test_1                民法第1055條,民法第1094條,民法第1089條,民法第1084條   \n",
       "2  test_2  全民健康保險法第84條,勞工保險條例第72條,勞工保險條例第11條,勞工保險條例第72條之1...   \n",
       "3  test_3                    民法第184條,民法第195條,民法第767條,民法第191條   \n",
       "4  test_4                中華民國刑法第305條,中華民國刑法第304條,中華民國刑法第306條   \n",
       "\n",
       "                 REF                                          situation  \n",
       "0            [就業服務法]  外籍勞工在合約到期後如何變更雇主?各位好,請教一下,如果外籍勞工在合約期滿後想要更換雇主,現...  \n",
       "1               [民法]  離婚後,我們雖然共同擁有監護權和扶養權,但前夫卻限制我與小孩進行通話、會面及同住。這樣的做法...  \n",
       "2  [勞工保險條例, 全民健康保險法]  若未提交離職申請書,可能會引發哪些法律上的問題呢?因為只工作一天就離開,算不算試用期但最終選...  \n",
       "3               [民法]               自家樹葉自然而然掉落到樓下鄰居的地方,是否會涉及到任何法律上的違規行為?  \n",
       "4           [中華民國刑法]  為了維護公共利益而奪取他人手機在電影院觀影時,如果我注意到前方有一位男子A在進行盜錄,出於保...  "
      ]
     },
     "execution_count": 5,
     "metadata": {},
     "output_type": "execute_result"
    }
   ],
   "source": [
    "merge_df.head()"
   ]
  },
  {
   "cell_type": "code",
   "execution_count": 6,
   "metadata": {},
   "outputs": [
    {
     "name": "stdout",
     "output_type": "stream",
     "text": [
      "None None\n"
     ]
    }
   ],
   "source": [
    "# from transformers import Qwen2VLForConditionalGeneration, AutoTokenizer, AutoProcessor\n",
    "# tokenizer = AutoTokenizer.from_pretrained(\"yentinglin/Llama-3-Taiwan-8B-Instruct\")\n",
    "\n",
    "print(tokenizer.vocab.get(\"否\"), tokenizer.vocab.get(\"是\"))"
   ]
  },
  {
   "cell_type": "code",
   "execution_count": 76,
   "metadata": {},
   "outputs": [
    {
     "name": "stdout",
     "output_type": "stream",
     "text": [
      "start retrieval in: 就業服務法, total length:85\n"
     ]
    },
    {
     "name": "stderr",
     "output_type": "stream",
     "text": [
      "  0%|          | 0/40 [00:00<?, ?it/s]/home/ai2lab/anaconda3/envs/qwen2/lib/python3.11/site-packages/transformers/generation/configuration_utils.py:601: UserWarning: `do_sample` is set to `False`. However, `temperature` is set to `0.6` -- this flag is only used in sample-based generation modes. You should set `do_sample=True` or unset `temperature`.\n",
      "  warnings.warn(\n",
      "/home/ai2lab/anaconda3/envs/qwen2/lib/python3.11/site-packages/transformers/generation/configuration_utils.py:606: UserWarning: `do_sample` is set to `False`. However, `top_p` is set to `0.9` -- this flag is only used in sample-based generation modes. You should set `do_sample=True` or unset `top_p`.\n",
      "  warnings.warn(\n",
      "100%|██████████| 40/40 [00:24<00:00,  1.62it/s]\n"
     ]
    },
    {
     "name": "stdout",
     "output_type": "stream",
     "text": [
      "start retrieval in: 民法, total length:1439\n"
     ]
    },
    {
     "name": "stderr",
     "output_type": "stream",
     "text": [
      "100%|██████████| 717/717 [06:35<00:00,  1.81it/s]\n"
     ]
    },
    {
     "name": "stdout",
     "output_type": "stream",
     "text": [
      "start retrieval in: 勞工保險條例, total length:104\n"
     ]
    },
    {
     "name": "stderr",
     "output_type": "stream",
     "text": [
      "100%|██████████| 50/50 [00:31<00:00,  1.58it/s]\n"
     ]
    },
    {
     "name": "stdout",
     "output_type": "stream",
     "text": [
      "start retrieval in: 全民健康保險法, total length:106\n"
     ]
    },
    {
     "name": "stderr",
     "output_type": "stream",
     "text": [
      "100%|██████████| 51/51 [00:29<00:00,  1.75it/s]\n"
     ]
    },
    {
     "name": "stdout",
     "output_type": "stream",
     "text": [
      "start retrieval in: 民法, total length:1439\n"
     ]
    },
    {
     "name": "stderr",
     "output_type": "stream",
     "text": [
      "100%|██████████| 717/717 [04:42<00:00,  2.54it/s]\n"
     ]
    },
    {
     "name": "stdout",
     "output_type": "stream",
     "text": [
      "start retrieval in: 中華民國刑法, total length:415\n"
     ]
    },
    {
     "name": "stderr",
     "output_type": "stream",
     "text": [
      "100%|██████████| 205/205 [02:13<00:00,  1.54it/s]\n"
     ]
    },
    {
     "name": "stdout",
     "output_type": "stream",
     "text": [
      "start retrieval in: 民法, total length:1439\n"
     ]
    },
    {
     "name": "stderr",
     "output_type": "stream",
     "text": [
      "100%|██████████| 717/717 [05:07<00:00,  2.33it/s]\n"
     ]
    },
    {
     "name": "stdout",
     "output_type": "stream",
     "text": [
      "start retrieval in: 中華民國刑法, total length:415\n"
     ]
    },
    {
     "name": "stderr",
     "output_type": "stream",
     "text": [
      "100%|██████████| 205/205 [02:09<00:00,  1.59it/s]\n"
     ]
    },
    {
     "name": "stdout",
     "output_type": "stream",
     "text": [
      "start retrieval in: 家庭暴力防治法, total length:77\n"
     ]
    },
    {
     "name": "stderr",
     "output_type": "stream",
     "text": [
      "100%|██████████| 36/36 [00:29<00:00,  1.24it/s]\n"
     ]
    },
    {
     "name": "stdout",
     "output_type": "stream",
     "text": [
      "start retrieval in: 民法, total length:1439\n"
     ]
    },
    {
     "name": "stderr",
     "output_type": "stream",
     "text": [
      "100%|██████████| 717/717 [05:16<00:00,  2.27it/s]\n"
     ]
    },
    {
     "name": "stdout",
     "output_type": "stream",
     "text": [
      "start retrieval in: 道路交通管理處罰條例, total length:133\n"
     ]
    },
    {
     "name": "stderr",
     "output_type": "stream",
     "text": [
      "100%|██████████| 64/64 [01:10<00:00,  1.10s/it]\n"
     ]
    },
    {
     "name": "stdout",
     "output_type": "stream",
     "text": [
      "start retrieval in: 民法, total length:1439\n"
     ]
    },
    {
     "name": "stderr",
     "output_type": "stream",
     "text": [
      "100%|██████████| 717/717 [05:25<00:00,  2.20it/s]\n"
     ]
    },
    {
     "name": "stdout",
     "output_type": "stream",
     "text": [
      "start retrieval in: 中華民國刑法, total length:415\n"
     ]
    },
    {
     "name": "stderr",
     "output_type": "stream",
     "text": [
      "100%|██████████| 205/205 [02:01<00:00,  1.68it/s]\n"
     ]
    },
    {
     "name": "stdout",
     "output_type": "stream",
     "text": [
      "start retrieval in: 民法, total length:1439\n"
     ]
    },
    {
     "name": "stderr",
     "output_type": "stream",
     "text": [
      "100%|██████████| 717/717 [05:34<00:00,  2.14it/s]\n"
     ]
    },
    {
     "name": "stdout",
     "output_type": "stream",
     "text": [
      "start retrieval in: 勞動基準法, total length:98\n"
     ]
    },
    {
     "name": "stderr",
     "output_type": "stream",
     "text": [
      "100%|██████████| 47/47 [00:35<00:00,  1.32it/s]\n"
     ]
    },
    {
     "name": "stdout",
     "output_type": "stream",
     "text": [
      "start retrieval in: 勞動基準法, total length:98\n"
     ]
    },
    {
     "name": "stderr",
     "output_type": "stream",
     "text": [
      "100%|██████████| 47/47 [00:31<00:00,  1.52it/s]\n"
     ]
    },
    {
     "name": "stdout",
     "output_type": "stream",
     "text": [
      "start retrieval in: 民法, total length:1439\n"
     ]
    },
    {
     "name": "stderr",
     "output_type": "stream",
     "text": [
      "100%|██████████| 717/717 [05:18<00:00,  2.25it/s]\n"
     ]
    },
    {
     "name": "stdout",
     "output_type": "stream",
     "text": [
      "start retrieval in: 個人資料保護法, total length:57\n"
     ]
    },
    {
     "name": "stderr",
     "output_type": "stream",
     "text": [
      "100%|██████████| 26/26 [00:17<00:00,  1.46it/s]\n"
     ]
    },
    {
     "name": "stdout",
     "output_type": "stream",
     "text": [
      "start retrieval in: 公司法, total length:533\n"
     ]
    },
    {
     "name": "stderr",
     "output_type": "stream",
     "text": [
      "100%|██████████| 264/264 [02:19<00:00,  1.89it/s]\n"
     ]
    },
    {
     "name": "stdout",
     "output_type": "stream",
     "text": [
      "start retrieval in: 中華民國憲法, total length:175\n"
     ]
    },
    {
     "name": "stderr",
     "output_type": "stream",
     "text": [
      "100%|██████████| 85/85 [00:48<00:00,  1.77it/s]\n"
     ]
    },
    {
     "name": "stdout",
     "output_type": "stream",
     "text": [
      "start retrieval in: 集會遊行法, total length:35\n"
     ]
    },
    {
     "name": "stderr",
     "output_type": "stream",
     "text": [
      "100%|██████████| 15/15 [00:11<00:00,  1.36it/s]\n"
     ]
    },
    {
     "name": "stdout",
     "output_type": "stream",
     "text": [
      "start retrieval in: 刑事訴訟法, total length:710\n"
     ]
    },
    {
     "name": "stderr",
     "output_type": "stream",
     "text": [
      "100%|██████████| 353/353 [03:26<00:00,  1.71it/s]\n"
     ]
    },
    {
     "name": "stdout",
     "output_type": "stream",
     "text": [
      "start retrieval in: 民法, total length:1439\n"
     ]
    },
    {
     "name": "stderr",
     "output_type": "stream",
     "text": [
      "100%|██████████| 717/717 [05:29<00:00,  2.18it/s]\n"
     ]
    },
    {
     "name": "stdout",
     "output_type": "stream",
     "text": [
      "start retrieval in: 民法, total length:1439\n"
     ]
    },
    {
     "name": "stderr",
     "output_type": "stream",
     "text": [
      "100%|██████████| 717/717 [04:58<00:00,  2.40it/s]\n"
     ]
    },
    {
     "name": "stdout",
     "output_type": "stream",
     "text": [
      "start retrieval in: 勞動基準法, total length:98\n"
     ]
    },
    {
     "name": "stderr",
     "output_type": "stream",
     "text": [
      "100%|██████████| 47/47 [00:35<00:00,  1.32it/s]\n"
     ]
    },
    {
     "name": "stdout",
     "output_type": "stream",
     "text": [
      "start retrieval in: 個人資料保護法, total length:57\n"
     ]
    },
    {
     "name": "stderr",
     "output_type": "stream",
     "text": [
      "100%|██████████| 26/26 [00:21<00:00,  1.22it/s]\n"
     ]
    },
    {
     "name": "stdout",
     "output_type": "stream",
     "text": [
      "start retrieval in: 勞工職業災害保險及保護法, total length:109\n"
     ]
    },
    {
     "name": "stderr",
     "output_type": "stream",
     "text": [
      "100%|██████████| 52/52 [00:36<00:00,  1.41it/s]\n"
     ]
    },
    {
     "name": "stdout",
     "output_type": "stream",
     "text": [
      "start retrieval in: 勞動基準法, total length:98\n"
     ]
    },
    {
     "name": "stderr",
     "output_type": "stream",
     "text": [
      "100%|██████████| 47/47 [00:34<00:00,  1.38it/s]\n"
     ]
    },
    {
     "name": "stdout",
     "output_type": "stream",
     "text": [
      "start retrieval in: 勞工保險條例, total length:104\n"
     ]
    },
    {
     "name": "stderr",
     "output_type": "stream",
     "text": [
      "100%|██████████| 50/50 [00:32<00:00,  1.56it/s]\n"
     ]
    },
    {
     "name": "stdout",
     "output_type": "stream",
     "text": [
      "start retrieval in: 刑事訴訟法, total length:710\n"
     ]
    },
    {
     "name": "stderr",
     "output_type": "stream",
     "text": [
      "100%|██████████| 353/353 [03:51<00:00,  1.53it/s]\n"
     ]
    },
    {
     "name": "stdout",
     "output_type": "stream",
     "text": [
      "start retrieval in: 中華民國刑法, total length:415\n"
     ]
    },
    {
     "name": "stderr",
     "output_type": "stream",
     "text": [
      "100%|██████████| 205/205 [03:51<00:00,  1.13s/it]\n"
     ]
    },
    {
     "name": "stdout",
     "output_type": "stream",
     "text": [
      "start retrieval in: 行政程序法, total length:176\n"
     ]
    },
    {
     "name": "stderr",
     "output_type": "stream",
     "text": [
      "100%|██████████| 86/86 [00:44<00:00,  1.95it/s]\n"
     ]
    },
    {
     "name": "stdout",
     "output_type": "stream",
     "text": [
      "start retrieval in: 民法, total length:1439\n"
     ]
    },
    {
     "name": "stderr",
     "output_type": "stream",
     "text": [
      "100%|██████████| 717/717 [05:21<00:00,  2.23it/s]\n"
     ]
    },
    {
     "name": "stdout",
     "output_type": "stream",
     "text": [
      "start retrieval in: 勞動基準法, total length:98\n"
     ]
    },
    {
     "name": "stderr",
     "output_type": "stream",
     "text": [
      "100%|██████████| 47/47 [00:29<00:00,  1.58it/s]\n"
     ]
    },
    {
     "name": "stdout",
     "output_type": "stream",
     "text": [
      "start retrieval in: 中華民國刑法, total length:415\n"
     ]
    },
    {
     "name": "stderr",
     "output_type": "stream",
     "text": [
      "100%|██████████| 205/205 [02:09<00:00,  1.58it/s]\n"
     ]
    },
    {
     "name": "stdout",
     "output_type": "stream",
     "text": [
      "start retrieval in: 消費者保護法, total length:78\n"
     ]
    },
    {
     "name": "stderr",
     "output_type": "stream",
     "text": [
      "100%|██████████| 37/37 [00:22<00:00,  1.62it/s]\n"
     ]
    },
    {
     "name": "stdout",
     "output_type": "stream",
     "text": [
      "start retrieval in: 民法, total length:1439\n"
     ]
    },
    {
     "name": "stderr",
     "output_type": "stream",
     "text": [
      "100%|██████████| 717/717 [05:14<00:00,  2.28it/s]\n"
     ]
    },
    {
     "name": "stdout",
     "output_type": "stream",
     "text": [
      "start retrieval in: 民法, total length:1439\n"
     ]
    },
    {
     "name": "stderr",
     "output_type": "stream",
     "text": [
      "100%|██████████| 717/717 [04:56<00:00,  2.42it/s]\n"
     ]
    },
    {
     "name": "stdout",
     "output_type": "stream",
     "text": [
      "start retrieval in: 刑事訴訟法, total length:710\n"
     ]
    },
    {
     "name": "stderr",
     "output_type": "stream",
     "text": [
      "100%|██████████| 353/353 [04:28<00:00,  1.32it/s]\n"
     ]
    },
    {
     "name": "stdout",
     "output_type": "stream",
     "text": [
      "start retrieval in: 中華民國刑法, total length:415\n"
     ]
    },
    {
     "name": "stderr",
     "output_type": "stream",
     "text": [
      "100%|██████████| 205/205 [02:36<00:00,  1.31it/s]\n"
     ]
    },
    {
     "name": "stdout",
     "output_type": "stream",
     "text": [
      "start retrieval in: 法院組織法, total length:153\n"
     ]
    },
    {
     "name": "stderr",
     "output_type": "stream",
     "text": [
      "100%|██████████| 74/74 [00:54<00:00,  1.36it/s]\n"
     ]
    },
    {
     "name": "stdout",
     "output_type": "stream",
     "text": [
      "start retrieval in: 警察職權行使法, total length:32\n"
     ]
    },
    {
     "name": "stderr",
     "output_type": "stream",
     "text": [
      "100%|██████████| 14/14 [00:11<00:00,  1.17it/s]\n"
     ]
    },
    {
     "name": "stdout",
     "output_type": "stream",
     "text": [
      "start retrieval in: 中華民國刑法, total length:415\n"
     ]
    },
    {
     "name": "stderr",
     "output_type": "stream",
     "text": [
      "100%|██████████| 205/205 [02:01<00:00,  1.69it/s]\n"
     ]
    },
    {
     "name": "stdout",
     "output_type": "stream",
     "text": [
      "start retrieval in: 中華民國刑法, total length:415\n"
     ]
    },
    {
     "name": "stderr",
     "output_type": "stream",
     "text": [
      "100%|██████████| 205/205 [03:49<00:00,  1.12s/it]\n"
     ]
    },
    {
     "name": "stdout",
     "output_type": "stream",
     "text": [
      "start retrieval in: 刑事訴訟法, total length:710\n"
     ]
    },
    {
     "name": "stderr",
     "output_type": "stream",
     "text": [
      "100%|██████████| 353/353 [03:20<00:00,  1.76it/s]\n"
     ]
    },
    {
     "name": "stdout",
     "output_type": "stream",
     "text": [
      "start retrieval in: 中華民國憲法, total length:175\n"
     ]
    },
    {
     "name": "stderr",
     "output_type": "stream",
     "text": [
      "100%|██████████| 85/85 [00:37<00:00,  2.24it/s]\n"
     ]
    },
    {
     "name": "stdout",
     "output_type": "stream",
     "text": [
      "start retrieval in: 教師法, total length:53\n"
     ]
    },
    {
     "name": "stderr",
     "output_type": "stream",
     "text": [
      "100%|██████████| 24/24 [00:17<00:00,  1.39it/s]\n"
     ]
    },
    {
     "name": "stdout",
     "output_type": "stream",
     "text": [
      "start retrieval in: 教育基本法, total length:17\n"
     ]
    },
    {
     "name": "stderr",
     "output_type": "stream",
     "text": [
      "100%|██████████| 6/6 [00:03<00:00,  1.84it/s]\n"
     ]
    },
    {
     "name": "stdout",
     "output_type": "stream",
     "text": [
      "start retrieval in: 行政訴訟法, total length:390\n"
     ]
    },
    {
     "name": "stderr",
     "output_type": "stream",
     "text": [
      "100%|██████████| 193/193 [01:53<00:00,  1.70it/s]\n"
     ]
    },
    {
     "name": "stdout",
     "output_type": "stream",
     "text": [
      "start retrieval in: 民法, total length:1439\n"
     ]
    },
    {
     "name": "stderr",
     "output_type": "stream",
     "text": [
      "100%|██████████| 717/717 [05:36<00:00,  2.13it/s]\n"
     ]
    },
    {
     "name": "stdout",
     "output_type": "stream",
     "text": [
      "start retrieval in: 民法, total length:1439\n"
     ]
    },
    {
     "name": "stderr",
     "output_type": "stream",
     "text": [
      "100%|██████████| 717/717 [05:36<00:00,  2.13it/s]\n"
     ]
    },
    {
     "name": "stdout",
     "output_type": "stream",
     "text": [
      "start retrieval in: 中華民國刑法, total length:415\n"
     ]
    },
    {
     "name": "stderr",
     "output_type": "stream",
     "text": [
      "100%|██████████| 205/205 [03:56<00:00,  1.15s/it]\n"
     ]
    },
    {
     "name": "stdout",
     "output_type": "stream",
     "text": [
      "start retrieval in: 中華民國憲法, total length:175\n"
     ]
    },
    {
     "name": "stderr",
     "output_type": "stream",
     "text": [
      "100%|██████████| 85/85 [00:29<00:00,  2.91it/s]\n"
     ]
    },
    {
     "name": "stdout",
     "output_type": "stream",
     "text": [
      "start retrieval in: 民法, total length:1439\n"
     ]
    },
    {
     "name": "stderr",
     "output_type": "stream",
     "text": [
      "100%|██████████| 717/717 [04:47<00:00,  2.49it/s]\n"
     ]
    },
    {
     "name": "stdout",
     "output_type": "stream",
     "text": [
      "start retrieval in: 民法, total length:1439\n"
     ]
    },
    {
     "name": "stderr",
     "output_type": "stream",
     "text": [
      "100%|██████████| 717/717 [05:02<00:00,  2.37it/s]\n"
     ]
    },
    {
     "name": "stdout",
     "output_type": "stream",
     "text": [
      "start retrieval in: 個人資料保護法, total length:57\n"
     ]
    },
    {
     "name": "stderr",
     "output_type": "stream",
     "text": [
      "100%|██████████| 26/26 [00:17<00:00,  1.46it/s]\n"
     ]
    },
    {
     "name": "stdout",
     "output_type": "stream",
     "text": [
      "start retrieval in: 民法, total length:1439\n"
     ]
    },
    {
     "name": "stderr",
     "output_type": "stream",
     "text": [
      "100%|██████████| 717/717 [06:39<00:00,  1.79it/s]\n"
     ]
    },
    {
     "name": "stdout",
     "output_type": "stream",
     "text": [
      "start retrieval in: 行政程序法, total length:176\n"
     ]
    },
    {
     "name": "stderr",
     "output_type": "stream",
     "text": [
      "100%|██████████| 86/86 [00:53<00:00,  1.59it/s]\n"
     ]
    },
    {
     "name": "stdout",
     "output_type": "stream",
     "text": [
      "start retrieval in: 中華民國刑法, total length:415\n"
     ]
    },
    {
     "name": "stderr",
     "output_type": "stream",
     "text": [
      "100%|██████████| 205/205 [02:08<00:00,  1.59it/s]\n"
     ]
    },
    {
     "name": "stdout",
     "output_type": "stream",
     "text": [
      "start retrieval in: 嚴重特殊傳染性肺炎防治及紓困振興特別條例, total length:20\n"
     ]
    },
    {
     "name": "stderr",
     "output_type": "stream",
     "text": [
      "100%|██████████| 8/8 [00:13<00:00,  1.66s/it]\n"
     ]
    },
    {
     "name": "stdout",
     "output_type": "stream",
     "text": [
      "start retrieval in: 民法, total length:1439\n"
     ]
    },
    {
     "name": "stderr",
     "output_type": "stream",
     "text": [
      "100%|██████████| 717/717 [05:49<00:00,  2.05it/s]\n"
     ]
    },
    {
     "name": "stdout",
     "output_type": "stream",
     "text": [
      "start retrieval in: 中華民國刑法, total length:415\n"
     ]
    },
    {
     "name": "stderr",
     "output_type": "stream",
     "text": [
      "100%|██████████| 205/205 [02:19<00:00,  1.47it/s]\n"
     ]
    },
    {
     "name": "stdout",
     "output_type": "stream",
     "text": [
      "start retrieval in: 建築法, total length:123\n"
     ]
    },
    {
     "name": "stderr",
     "output_type": "stream",
     "text": [
      "100%|██████████| 59/59 [00:35<00:00,  1.65it/s]\n"
     ]
    },
    {
     "name": "stdout",
     "output_type": "stream",
     "text": [
      "start retrieval in: 民法, total length:1439\n"
     ]
    },
    {
     "name": "stderr",
     "output_type": "stream",
     "text": [
      "100%|██████████| 717/717 [05:29<00:00,  2.18it/s]\n"
     ]
    },
    {
     "name": "stdout",
     "output_type": "stream",
     "text": [
      "start retrieval in: 民法, total length:1439\n"
     ]
    },
    {
     "name": "stderr",
     "output_type": "stream",
     "text": [
      "100%|██████████| 717/717 [06:20<00:00,  1.88it/s]\n"
     ]
    },
    {
     "name": "stdout",
     "output_type": "stream",
     "text": [
      "start retrieval in: 公寓大廈管理條例, total length:66\n"
     ]
    },
    {
     "name": "stderr",
     "output_type": "stream",
     "text": [
      "100%|██████████| 31/31 [00:24<00:00,  1.26it/s]\n"
     ]
    },
    {
     "name": "stdout",
     "output_type": "stream",
     "text": [
      "start retrieval in: 中華民國刑法, total length:415\n"
     ]
    },
    {
     "name": "stderr",
     "output_type": "stream",
     "text": [
      "100%|██████████| 205/205 [02:18<00:00,  1.48it/s]\n"
     ]
    },
    {
     "name": "stdout",
     "output_type": "stream",
     "text": [
      "start retrieval in: 毒品危害防制條例, total length:49\n"
     ]
    },
    {
     "name": "stderr",
     "output_type": "stream",
     "text": [
      "100%|██████████| 22/22 [00:22<00:00,  1.01s/it]\n"
     ]
    },
    {
     "name": "stdout",
     "output_type": "stream",
     "text": [
      "start retrieval in: 勞動基準法, total length:98\n"
     ]
    },
    {
     "name": "stderr",
     "output_type": "stream",
     "text": [
      "100%|██████████| 47/47 [00:31<00:00,  1.49it/s]\n"
     ]
    },
    {
     "name": "stdout",
     "output_type": "stream",
     "text": [
      "start retrieval in: 民法, total length:1439\n"
     ]
    },
    {
     "name": "stderr",
     "output_type": "stream",
     "text": [
      "100%|██████████| 717/717 [04:25<00:00,  2.70it/s]\n"
     ]
    },
    {
     "name": "stdout",
     "output_type": "stream",
     "text": [
      "start retrieval in: 消費者保護法, total length:78\n"
     ]
    },
    {
     "name": "stderr",
     "output_type": "stream",
     "text": [
      "100%|██████████| 37/37 [00:21<00:00,  1.69it/s]\n"
     ]
    },
    {
     "name": "stdout",
     "output_type": "stream",
     "text": [
      "start retrieval in: 中華民國刑法, total length:415\n"
     ]
    },
    {
     "name": "stderr",
     "output_type": "stream",
     "text": [
      "100%|██████████| 205/205 [02:06<00:00,  1.62it/s]\n"
     ]
    },
    {
     "name": "stdout",
     "output_type": "stream",
     "text": [
      "start retrieval in: 民法, total length:1439\n"
     ]
    },
    {
     "name": "stderr",
     "output_type": "stream",
     "text": [
      "100%|██████████| 717/717 [04:46<00:00,  2.51it/s]\n"
     ]
    },
    {
     "name": "stdout",
     "output_type": "stream",
     "text": [
      "start retrieval in: 民法, total length:1439\n"
     ]
    },
    {
     "name": "stderr",
     "output_type": "stream",
     "text": [
      "100%|██████████| 717/717 [05:33<00:00,  2.15it/s]\n"
     ]
    },
    {
     "name": "stdout",
     "output_type": "stream",
     "text": [
      "start retrieval in: 中華民國刑法, total length:415\n"
     ]
    },
    {
     "name": "stderr",
     "output_type": "stream",
     "text": [
      "100%|██████████| 205/205 [02:09<00:00,  1.58it/s]\n"
     ]
    },
    {
     "name": "stdout",
     "output_type": "stream",
     "text": [
      "start retrieval in: 民法, total length:1439\n"
     ]
    },
    {
     "name": "stderr",
     "output_type": "stream",
     "text": [
      "100%|██████████| 717/717 [05:26<00:00,  2.20it/s]\n"
     ]
    },
    {
     "name": "stdout",
     "output_type": "stream",
     "text": [
      "start retrieval in: 道路交通管理處罰條例, total length:133\n"
     ]
    },
    {
     "name": "stderr",
     "output_type": "stream",
     "text": [
      "100%|██████████| 64/64 [01:00<00:00,  1.06it/s]\n"
     ]
    },
    {
     "name": "stdout",
     "output_type": "stream",
     "text": [
      "start retrieval in: 中華民國刑法, total length:415\n"
     ]
    },
    {
     "name": "stderr",
     "output_type": "stream",
     "text": [
      "100%|██████████| 205/205 [02:23<00:00,  1.43it/s]\n"
     ]
    },
    {
     "name": "stdout",
     "output_type": "stream",
     "text": [
      "start retrieval in: 民法, total length:1439\n"
     ]
    },
    {
     "name": "stderr",
     "output_type": "stream",
     "text": [
      "100%|██████████| 717/717 [05:14<00:00,  2.28it/s]\n"
     ]
    },
    {
     "name": "stdout",
     "output_type": "stream",
     "text": [
      "start retrieval in: 公平交易法, total length:51\n"
     ]
    },
    {
     "name": "stderr",
     "output_type": "stream",
     "text": [
      "100%|██████████| 23/23 [00:15<00:00,  1.46it/s]\n"
     ]
    },
    {
     "name": "stdout",
     "output_type": "stream",
     "text": [
      "start retrieval in: 中華民國刑法, total length:415\n"
     ]
    },
    {
     "name": "stderr",
     "output_type": "stream",
     "text": [
      "100%|██████████| 205/205 [01:52<00:00,  1.82it/s]\n"
     ]
    },
    {
     "name": "stdout",
     "output_type": "stream",
     "text": [
      "start retrieval in: 刑事訴訟法, total length:710\n"
     ]
    },
    {
     "name": "stderr",
     "output_type": "stream",
     "text": [
      "100%|██████████| 353/353 [03:19<00:00,  1.77it/s]\n"
     ]
    },
    {
     "name": "stdout",
     "output_type": "stream",
     "text": [
      "start retrieval in: 法院組織法, total length:153\n"
     ]
    },
    {
     "name": "stderr",
     "output_type": "stream",
     "text": [
      "100%|██████████| 74/74 [00:47<00:00,  1.57it/s]\n"
     ]
    },
    {
     "name": "stdout",
     "output_type": "stream",
     "text": [
      "start retrieval in: 就業保險法, total length:47\n"
     ]
    },
    {
     "name": "stderr",
     "output_type": "stream",
     "text": [
      "100%|██████████| 21/21 [00:12<00:00,  1.64it/s]\n"
     ]
    },
    {
     "name": "stdout",
     "output_type": "stream",
     "text": [
      "start retrieval in: 民法, total length:1439\n"
     ]
    },
    {
     "name": "stderr",
     "output_type": "stream",
     "text": [
      "100%|██████████| 717/717 [05:00<00:00,  2.39it/s]\n"
     ]
    },
    {
     "name": "stdout",
     "output_type": "stream",
     "text": [
      "start retrieval in: 刑事訴訟法, total length:710\n"
     ]
    },
    {
     "name": "stderr",
     "output_type": "stream",
     "text": [
      "100%|██████████| 353/353 [03:26<00:00,  1.71it/s]\n"
     ]
    },
    {
     "name": "stdout",
     "output_type": "stream",
     "text": [
      "start retrieval in: 民法, total length:1439\n"
     ]
    },
    {
     "name": "stderr",
     "output_type": "stream",
     "text": [
      "100%|██████████| 717/717 [04:43<00:00,  2.53it/s]\n"
     ]
    },
    {
     "name": "stdout",
     "output_type": "stream",
     "text": [
      "start retrieval in: 中華民國刑法, total length:415\n"
     ]
    },
    {
     "name": "stderr",
     "output_type": "stream",
     "text": [
      "100%|██████████| 205/205 [01:52<00:00,  1.83it/s]\n"
     ]
    },
    {
     "name": "stdout",
     "output_type": "stream",
     "text": [
      "start retrieval in: 民法, total length:1439\n"
     ]
    },
    {
     "name": "stderr",
     "output_type": "stream",
     "text": [
      "100%|██████████| 717/717 [05:16<00:00,  2.26it/s]\n"
     ]
    },
    {
     "name": "stdout",
     "output_type": "stream",
     "text": [
      "start retrieval in: 刑事訴訟法, total length:710\n"
     ]
    },
    {
     "name": "stderr",
     "output_type": "stream",
     "text": [
      "100%|██████████| 353/353 [03:39<00:00,  1.61it/s]\n"
     ]
    },
    {
     "name": "stdout",
     "output_type": "stream",
     "text": [
      "start retrieval in: 民事訴訟法, total length:800\n"
     ]
    },
    {
     "name": "stderr",
     "output_type": "stream",
     "text": [
      "100%|██████████| 398/398 [03:23<00:00,  1.96it/s]\n"
     ]
    },
    {
     "name": "stdout",
     "output_type": "stream",
     "text": [
      "start retrieval in: 傳染病防治法, total length:81\n"
     ]
    },
    {
     "name": "stderr",
     "output_type": "stream",
     "text": [
      "100%|██████████| 38/38 [00:25<00:00,  1.48it/s]\n"
     ]
    },
    {
     "name": "stdout",
     "output_type": "stream",
     "text": [
      "start retrieval in: 勞動基準法, total length:98\n"
     ]
    },
    {
     "name": "stderr",
     "output_type": "stream",
     "text": [
      "100%|██████████| 47/47 [00:28<00:00,  1.68it/s]\n"
     ]
    },
    {
     "name": "stdout",
     "output_type": "stream",
     "text": [
      "start retrieval in: 民法, total length:1439\n"
     ]
    },
    {
     "name": "stderr",
     "output_type": "stream",
     "text": [
      "100%|██████████| 717/717 [04:41<00:00,  2.54it/s]\n"
     ]
    },
    {
     "name": "stdout",
     "output_type": "stream",
     "text": [
      "start retrieval in: 中華民國憲法, total length:175\n"
     ]
    },
    {
     "name": "stderr",
     "output_type": "stream",
     "text": [
      "100%|██████████| 85/85 [00:45<00:00,  1.88it/s]\n"
     ]
    },
    {
     "name": "stdout",
     "output_type": "stream",
     "text": [
      "start retrieval in: 中華民國憲法增修條文, total length:12\n"
     ]
    },
    {
     "name": "stderr",
     "output_type": "stream",
     "text": [
      "100%|██████████| 4/4 [00:06<00:00,  1.51s/it]\n"
     ]
    },
    {
     "name": "stdout",
     "output_type": "stream",
     "text": [
      "start retrieval in: 刑事訴訟法, total length:710\n"
     ]
    },
    {
     "name": "stderr",
     "output_type": "stream",
     "text": [
      "100%|██████████| 353/353 [03:03<00:00,  1.93it/s]\n"
     ]
    },
    {
     "name": "stdout",
     "output_type": "stream",
     "text": [
      "start retrieval in: 民事訴訟法, total length:800\n"
     ]
    },
    {
     "name": "stderr",
     "output_type": "stream",
     "text": [
      "100%|██████████| 398/398 [03:27<00:00,  1.92it/s]\n"
     ]
    },
    {
     "name": "stdout",
     "output_type": "stream",
     "text": [
      "start retrieval in: 民法, total length:1439\n"
     ]
    },
    {
     "name": "stderr",
     "output_type": "stream",
     "text": [
      "100%|██████████| 717/717 [05:12<00:00,  2.29it/s]\n"
     ]
    },
    {
     "name": "stdout",
     "output_type": "stream",
     "text": [
      "start retrieval in: 鐵路法, total length:99\n"
     ]
    },
    {
     "name": "stderr",
     "output_type": "stream",
     "text": [
      "100%|██████████| 47/47 [00:31<00:00,  1.48it/s]\n"
     ]
    },
    {
     "name": "stdout",
     "output_type": "stream",
     "text": [
      "start retrieval in: 中華民國刑法, total length:415\n"
     ]
    },
    {
     "name": "stderr",
     "output_type": "stream",
     "text": [
      "100%|██████████| 205/205 [02:33<00:00,  1.33it/s]\n"
     ]
    },
    {
     "name": "stdout",
     "output_type": "stream",
     "text": [
      "start retrieval in: 中華民國刑法, total length:415\n"
     ]
    },
    {
     "name": "stderr",
     "output_type": "stream",
     "text": [
      "100%|██████████| 205/205 [01:48<00:00,  1.89it/s]\n"
     ]
    },
    {
     "name": "stdout",
     "output_type": "stream",
     "text": [
      "start retrieval in: 勞工請假規則, total length:12\n"
     ]
    },
    {
     "name": "stderr",
     "output_type": "stream",
     "text": [
      "100%|██████████| 4/4 [00:01<00:00,  2.42it/s]\n"
     ]
    },
    {
     "name": "stdout",
     "output_type": "stream",
     "text": [
      "start retrieval in: 勞工保險條例, total length:104\n"
     ]
    },
    {
     "name": "stderr",
     "output_type": "stream",
     "text": [
      "100%|██████████| 50/50 [00:33<00:00,  1.47it/s]\n"
     ]
    },
    {
     "name": "stdout",
     "output_type": "stream",
     "text": [
      "start retrieval in: 勞動基準法, total length:98\n"
     ]
    },
    {
     "name": "stderr",
     "output_type": "stream",
     "text": [
      "100%|██████████| 47/47 [00:32<00:00,  1.43it/s]\n"
     ]
    },
    {
     "name": "stdout",
     "output_type": "stream",
     "text": [
      "start retrieval in: 勞動基準法, total length:98\n"
     ]
    },
    {
     "name": "stderr",
     "output_type": "stream",
     "text": [
      "100%|██████████| 47/47 [00:28<00:00,  1.64it/s]\n"
     ]
    },
    {
     "name": "stdout",
     "output_type": "stream",
     "text": [
      "start retrieval in: 民法, total length:1439\n"
     ]
    },
    {
     "name": "stderr",
     "output_type": "stream",
     "text": [
      "100%|██████████| 717/717 [05:44<00:00,  2.08it/s]\n"
     ]
    },
    {
     "name": "stdout",
     "output_type": "stream",
     "text": [
      "start retrieval in: 刑事訴訟法, total length:710\n"
     ]
    },
    {
     "name": "stderr",
     "output_type": "stream",
     "text": [
      "100%|██████████| 353/353 [04:24<00:00,  1.33it/s]\n"
     ]
    },
    {
     "name": "stdout",
     "output_type": "stream",
     "text": [
      "start retrieval in: 道路交通管理處罰條例, total length:133\n"
     ]
    },
    {
     "name": "stderr",
     "output_type": "stream",
     "text": [
      "100%|██████████| 64/64 [01:03<00:00,  1.01it/s]\n"
     ]
    },
    {
     "name": "stdout",
     "output_type": "stream",
     "text": [
      "start retrieval in: 工會法, total length:49\n"
     ]
    },
    {
     "name": "stderr",
     "output_type": "stream",
     "text": [
      "100%|██████████| 22/22 [00:12<00:00,  1.74it/s]\n"
     ]
    },
    {
     "name": "stdout",
     "output_type": "stream",
     "text": [
      "start retrieval in: 勞動基準法, total length:98\n"
     ]
    },
    {
     "name": "stderr",
     "output_type": "stream",
     "text": [
      "100%|██████████| 47/47 [00:30<00:00,  1.53it/s]\n"
     ]
    },
    {
     "name": "stdout",
     "output_type": "stream",
     "text": [
      "start retrieval in: 勞工保險條例, total length:104\n"
     ]
    },
    {
     "name": "stderr",
     "output_type": "stream",
     "text": [
      "100%|██████████| 50/50 [00:33<00:00,  1.51it/s]\n"
     ]
    },
    {
     "name": "stdout",
     "output_type": "stream",
     "text": [
      "start retrieval in: 勞動基準法, total length:98\n"
     ]
    },
    {
     "name": "stderr",
     "output_type": "stream",
     "text": [
      "100%|██████████| 47/47 [00:32<00:00,  1.45it/s]\n"
     ]
    },
    {
     "name": "stdout",
     "output_type": "stream",
     "text": [
      "start retrieval in: 刑事訴訟法, total length:710\n"
     ]
    },
    {
     "name": "stderr",
     "output_type": "stream",
     "text": [
      "100%|██████████| 353/353 [03:27<00:00,  1.70it/s]\n"
     ]
    },
    {
     "name": "stdout",
     "output_type": "stream",
     "text": [
      "start retrieval in: 都市計畫法, total length:92\n"
     ]
    },
    {
     "name": "stderr",
     "output_type": "stream",
     "text": [
      "100%|██████████| 44/44 [00:32<00:00,  1.36it/s]\n"
     ]
    },
    {
     "name": "stdout",
     "output_type": "stream",
     "text": [
      "start retrieval in: 民法, total length:1439\n"
     ]
    },
    {
     "name": "stderr",
     "output_type": "stream",
     "text": [
      "100%|██████████| 717/717 [05:33<00:00,  2.15it/s]\n"
     ]
    },
    {
     "name": "stdout",
     "output_type": "stream",
     "text": [
      "start retrieval in: 民法, total length:1439\n"
     ]
    },
    {
     "name": "stderr",
     "output_type": "stream",
     "text": [
      "100%|██████████| 717/717 [04:54<00:00,  2.43it/s]\n"
     ]
    },
    {
     "name": "stdout",
     "output_type": "stream",
     "text": [
      "start retrieval in: 家庭暴力防治法, total length:77\n"
     ]
    },
    {
     "name": "stderr",
     "output_type": "stream",
     "text": [
      "100%|██████████| 36/36 [00:29<00:00,  1.23it/s]\n"
     ]
    },
    {
     "name": "stdout",
     "output_type": "stream",
     "text": [
      "start retrieval in: 土地登記規則, total length:184\n"
     ]
    },
    {
     "name": "stderr",
     "output_type": "stream",
     "text": [
      "100%|██████████| 90/90 [00:54<00:00,  1.65it/s]\n"
     ]
    },
    {
     "name": "stdout",
     "output_type": "stream",
     "text": [
      "start retrieval in: 民法, total length:1439\n"
     ]
    },
    {
     "name": "stderr",
     "output_type": "stream",
     "text": [
      "100%|██████████| 717/717 [05:08<00:00,  2.33it/s]\n"
     ]
    },
    {
     "name": "stdout",
     "output_type": "stream",
     "text": [
      "start retrieval in: 土地法, total length:262\n"
     ]
    },
    {
     "name": "stderr",
     "output_type": "stream",
     "text": [
      "100%|██████████| 129/129 [00:51<00:00,  2.51it/s]\n"
     ]
    },
    {
     "name": "stdout",
     "output_type": "stream",
     "text": [
      "start retrieval in: 勞動基準法, total length:98\n"
     ]
    },
    {
     "name": "stderr",
     "output_type": "stream",
     "text": [
      "100%|██████████| 47/47 [00:29<00:00,  1.59it/s]\n"
     ]
    },
    {
     "name": "stdout",
     "output_type": "stream",
     "text": [
      "start retrieval in: 中華民國刑法, total length:415\n"
     ]
    },
    {
     "name": "stderr",
     "output_type": "stream",
     "text": [
      "100%|██████████| 205/205 [01:57<00:00,  1.74it/s]\n"
     ]
    },
    {
     "name": "stdout",
     "output_type": "stream",
     "text": [
      "start retrieval in: 動物保護法, total length:59\n"
     ]
    },
    {
     "name": "stderr",
     "output_type": "stream",
     "text": [
      "100%|██████████| 27/27 [00:25<00:00,  1.04it/s]\n"
     ]
    },
    {
     "name": "stdout",
     "output_type": "stream",
     "text": [
      "start retrieval in: 中華民國憲法, total length:175\n"
     ]
    },
    {
     "name": "stderr",
     "output_type": "stream",
     "text": [
      "100%|██████████| 85/85 [00:38<00:00,  2.23it/s]\n"
     ]
    },
    {
     "name": "stdout",
     "output_type": "stream",
     "text": [
      "start retrieval in: 教育基本法, total length:17\n"
     ]
    },
    {
     "name": "stderr",
     "output_type": "stream",
     "text": [
      "100%|██████████| 6/6 [00:03<00:00,  1.51it/s]\n"
     ]
    },
    {
     "name": "stdout",
     "output_type": "stream",
     "text": [
      "start retrieval in: 工會法, total length:49\n"
     ]
    },
    {
     "name": "stderr",
     "output_type": "stream",
     "text": [
      "100%|██████████| 22/22 [00:15<00:00,  1.46it/s]\n"
     ]
    },
    {
     "name": "stdout",
     "output_type": "stream",
     "text": [
      "start retrieval in: 民法, total length:1439\n"
     ]
    },
    {
     "name": "stderr",
     "output_type": "stream",
     "text": [
      "100%|██████████| 717/717 [05:05<00:00,  2.35it/s]\n"
     ]
    },
    {
     "name": "stdout",
     "output_type": "stream",
     "text": [
      "start retrieval in: 就業服務法, total length:85\n"
     ]
    },
    {
     "name": "stderr",
     "output_type": "stream",
     "text": [
      "100%|██████████| 40/40 [00:25<00:00,  1.58it/s]\n"
     ]
    },
    {
     "name": "stdout",
     "output_type": "stream",
     "text": [
      "start retrieval in: 民法, total length:1439\n"
     ]
    },
    {
     "name": "stderr",
     "output_type": "stream",
     "text": [
      "100%|██████████| 717/717 [05:46<00:00,  2.07it/s]\n"
     ]
    },
    {
     "name": "stdout",
     "output_type": "stream",
     "text": [
      "start retrieval in: 中華民國刑法, total length:415\n"
     ]
    },
    {
     "name": "stderr",
     "output_type": "stream",
     "text": [
      "100%|██████████| 205/205 [03:58<00:00,  1.16s/it]\n"
     ]
    },
    {
     "name": "stdout",
     "output_type": "stream",
     "text": [
      "start retrieval in: 中華民國刑法, total length:415\n"
     ]
    },
    {
     "name": "stderr",
     "output_type": "stream",
     "text": [
      "100%|██████████| 205/205 [01:42<00:00,  2.00it/s]\n"
     ]
    },
    {
     "name": "stdout",
     "output_type": "stream",
     "text": [
      "start retrieval in: 勞動基準法, total length:98\n"
     ]
    },
    {
     "name": "stderr",
     "output_type": "stream",
     "text": [
      "100%|██████████| 47/47 [00:33<00:00,  1.41it/s]\n"
     ]
    },
    {
     "name": "stdout",
     "output_type": "stream",
     "text": [
      "start retrieval in: 醫療法, total length:129\n"
     ]
    },
    {
     "name": "stderr",
     "output_type": "stream",
     "text": [
      "100%|██████████| 62/62 [00:38<00:00,  1.63it/s]\n"
     ]
    },
    {
     "name": "stdout",
     "output_type": "stream",
     "text": [
      "start retrieval in: 民法, total length:1439\n"
     ]
    },
    {
     "name": "stderr",
     "output_type": "stream",
     "text": [
      "100%|██████████| 717/717 [05:11<00:00,  2.30it/s]\n"
     ]
    },
    {
     "name": "stdout",
     "output_type": "stream",
     "text": [
      "start retrieval in: 中華民國憲法, total length:175\n"
     ]
    },
    {
     "name": "stderr",
     "output_type": "stream",
     "text": [
      "100%|██████████| 85/85 [00:37<00:00,  2.24it/s]\n"
     ]
    },
    {
     "name": "stdout",
     "output_type": "stream",
     "text": [
      "start retrieval in: 中華民國憲法增修條文, total length:12\n"
     ]
    },
    {
     "name": "stderr",
     "output_type": "stream",
     "text": [
      "100%|██████████| 4/4 [00:06<00:00,  1.61s/it]\n"
     ]
    },
    {
     "name": "stdout",
     "output_type": "stream",
     "text": [
      "start retrieval in: 道路交通管理處罰條例, total length:133\n"
     ]
    },
    {
     "name": "stderr",
     "output_type": "stream",
     "text": [
      "100%|██████████| 64/64 [00:59<00:00,  1.08it/s]\n"
     ]
    },
    {
     "name": "stdout",
     "output_type": "stream",
     "text": [
      "start retrieval in: 公職人員選舉罷免法, total length:147\n"
     ]
    },
    {
     "name": "stderr",
     "output_type": "stream",
     "text": [
      "100%|██████████| 71/71 [01:18<00:00,  1.11s/it]\n"
     ]
    },
    {
     "name": "stdout",
     "output_type": "stream",
     "text": [
      "start retrieval in: 個人資料保護法, total length:57\n"
     ]
    },
    {
     "name": "stderr",
     "output_type": "stream",
     "text": [
      "100%|██████████| 26/26 [00:18<00:00,  1.40it/s]\n"
     ]
    },
    {
     "name": "stdout",
     "output_type": "stream",
     "text": [
      "start retrieval in: 民法, total length:1439\n"
     ]
    },
    {
     "name": "stderr",
     "output_type": "stream",
     "text": [
      "100%|██████████| 717/717 [05:21<00:00,  2.23it/s]\n"
     ]
    },
    {
     "name": "stdout",
     "output_type": "stream",
     "text": [
      "start retrieval in: 中華民國刑法, total length:415\n"
     ]
    },
    {
     "name": "stderr",
     "output_type": "stream",
     "text": [
      "100%|██████████| 205/205 [02:04<00:00,  1.64it/s]\n"
     ]
    },
    {
     "name": "stdout",
     "output_type": "stream",
     "text": [
      "start retrieval in: 勞動基準法, total length:98\n"
     ]
    },
    {
     "name": "stderr",
     "output_type": "stream",
     "text": [
      "100%|██████████| 47/47 [00:30<00:00,  1.54it/s]\n"
     ]
    },
    {
     "name": "stdout",
     "output_type": "stream",
     "text": [
      "start retrieval in: 勞動事件法, total length:53\n"
     ]
    },
    {
     "name": "stderr",
     "output_type": "stream",
     "text": [
      "100%|██████████| 24/24 [00:16<00:00,  1.49it/s]\n"
     ]
    },
    {
     "name": "stdout",
     "output_type": "stream",
     "text": [
      "start retrieval in: 行政訴訟法, total length:390\n"
     ]
    },
    {
     "name": "stderr",
     "output_type": "stream",
     "text": [
      "100%|██████████| 193/193 [01:41<00:00,  1.90it/s]\n"
     ]
    },
    {
     "name": "stdout",
     "output_type": "stream",
     "text": [
      "start retrieval in: 勞動基準法, total length:98\n"
     ]
    },
    {
     "name": "stderr",
     "output_type": "stream",
     "text": [
      "100%|██████████| 47/47 [00:34<00:00,  1.37it/s]\n"
     ]
    },
    {
     "name": "stdout",
     "output_type": "stream",
     "text": [
      "start retrieval in: 民法, total length:1439\n"
     ]
    },
    {
     "name": "stderr",
     "output_type": "stream",
     "text": [
      "100%|██████████| 717/717 [05:38<00:00,  2.12it/s]\n"
     ]
    },
    {
     "name": "stdout",
     "output_type": "stream",
     "text": [
      "start retrieval in: 民法, total length:1439\n"
     ]
    },
    {
     "name": "stderr",
     "output_type": "stream",
     "text": [
      "100%|██████████| 717/717 [05:06<00:00,  2.34it/s]\n"
     ]
    },
    {
     "name": "stdout",
     "output_type": "stream",
     "text": [
      "start retrieval in: 民法, total length:1439\n"
     ]
    },
    {
     "name": "stderr",
     "output_type": "stream",
     "text": [
      "100%|██████████| 717/717 [05:57<00:00,  2.01it/s]\n"
     ]
    },
    {
     "name": "stdout",
     "output_type": "stream",
     "text": [
      "start retrieval in: 民法, total length:1439\n"
     ]
    },
    {
     "name": "stderr",
     "output_type": "stream",
     "text": [
      "100%|██████████| 717/717 [05:26<00:00,  2.20it/s]\n"
     ]
    },
    {
     "name": "stdout",
     "output_type": "stream",
     "text": [
      "start retrieval in: 民法, total length:1439\n"
     ]
    },
    {
     "name": "stderr",
     "output_type": "stream",
     "text": [
      "100%|██████████| 717/717 [05:48<00:00,  2.06it/s]\n"
     ]
    },
    {
     "name": "stdout",
     "output_type": "stream",
     "text": [
      "start retrieval in: 行政訴訟法, total length:390\n"
     ]
    },
    {
     "name": "stderr",
     "output_type": "stream",
     "text": [
      "100%|██████████| 193/193 [01:57<00:00,  1.65it/s]\n"
     ]
    },
    {
     "name": "stdout",
     "output_type": "stream",
     "text": [
      "start retrieval in: 行政程序法, total length:176\n"
     ]
    },
    {
     "name": "stderr",
     "output_type": "stream",
     "text": [
      "100%|██████████| 86/86 [00:48<00:00,  1.79it/s]\n"
     ]
    },
    {
     "name": "stdout",
     "output_type": "stream",
     "text": [
      "start retrieval in: 少年事件處理法, total length:120\n"
     ]
    },
    {
     "name": "stderr",
     "output_type": "stream",
     "text": [
      "100%|██████████| 58/58 [00:51<00:00,  1.13it/s]\n"
     ]
    },
    {
     "name": "stdout",
     "output_type": "stream",
     "text": [
      "start retrieval in: 建築法, total length:123\n"
     ]
    },
    {
     "name": "stderr",
     "output_type": "stream",
     "text": [
      "100%|██████████| 59/59 [00:32<00:00,  1.83it/s]\n"
     ]
    },
    {
     "name": "stdout",
     "output_type": "stream",
     "text": [
      "start retrieval in: 民法, total length:1439\n"
     ]
    },
    {
     "name": "stderr",
     "output_type": "stream",
     "text": [
      "100%|██████████| 717/717 [04:50<00:00,  2.47it/s]\n"
     ]
    },
    {
     "name": "stdout",
     "output_type": "stream",
     "text": [
      "start retrieval in: 刑事訴訟法, total length:710\n"
     ]
    },
    {
     "name": "stderr",
     "output_type": "stream",
     "text": [
      "100%|██████████| 353/353 [04:16<00:00,  1.38it/s]\n"
     ]
    },
    {
     "name": "stdout",
     "output_type": "stream",
     "text": [
      "start retrieval in: 中華民國刑法, total length:415\n"
     ]
    },
    {
     "name": "stderr",
     "output_type": "stream",
     "text": [
      "100%|██████████| 205/205 [04:11<00:00,  1.23s/it]\n"
     ]
    },
    {
     "name": "stdout",
     "output_type": "stream",
     "text": [
      "start retrieval in: 民法, total length:1439\n"
     ]
    },
    {
     "name": "stderr",
     "output_type": "stream",
     "text": [
      "100%|██████████| 717/717 [05:03<00:00,  2.36it/s]\n"
     ]
    },
    {
     "name": "stdout",
     "output_type": "stream",
     "text": [
      "start retrieval in: 社會秩序維護法, total length:96\n"
     ]
    },
    {
     "name": "stderr",
     "output_type": "stream",
     "text": [
      "100%|██████████| 46/46 [00:29<00:00,  1.57it/s]\n"
     ]
    },
    {
     "name": "stdout",
     "output_type": "stream",
     "text": [
      "start retrieval in: 公寓大廈管理條例, total length:66\n"
     ]
    },
    {
     "name": "stderr",
     "output_type": "stream",
     "text": [
      "100%|██████████| 31/31 [00:22<00:00,  1.38it/s]\n"
     ]
    },
    {
     "name": "stdout",
     "output_type": "stream",
     "text": [
      "start retrieval in: 中華民國憲法, total length:175\n"
     ]
    },
    {
     "name": "stderr",
     "output_type": "stream",
     "text": [
      "100%|██████████| 85/85 [00:47<00:00,  1.79it/s]\n"
     ]
    },
    {
     "name": "stdout",
     "output_type": "stream",
     "text": [
      "start retrieval in: 個人資料保護法, total length:57\n"
     ]
    },
    {
     "name": "stderr",
     "output_type": "stream",
     "text": [
      "100%|██████████| 26/26 [00:17<00:00,  1.48it/s]\n"
     ]
    },
    {
     "name": "stdout",
     "output_type": "stream",
     "text": [
      "start retrieval in: 中華民國刑法, total length:415\n"
     ]
    },
    {
     "name": "stderr",
     "output_type": "stream",
     "text": [
      "100%|██████████| 205/205 [02:19<00:00,  1.47it/s]\n"
     ]
    },
    {
     "name": "stdout",
     "output_type": "stream",
     "text": [
      "start retrieval in: 中華民國憲法, total length:175\n"
     ]
    },
    {
     "name": "stderr",
     "output_type": "stream",
     "text": [
      "100%|██████████| 85/85 [00:45<00:00,  1.87it/s]\n"
     ]
    },
    {
     "name": "stdout",
     "output_type": "stream",
     "text": [
      "start retrieval in: 行政罰法, total length:46\n"
     ]
    },
    {
     "name": "stderr",
     "output_type": "stream",
     "text": [
      "100%|██████████| 21/21 [00:16<00:00,  1.30it/s]\n"
     ]
    },
    {
     "name": "stdout",
     "output_type": "stream",
     "text": [
      "start retrieval in: 個人資料保護法, total length:57\n"
     ]
    },
    {
     "name": "stderr",
     "output_type": "stream",
     "text": [
      "100%|██████████| 26/26 [00:16<00:00,  1.58it/s]\n"
     ]
    },
    {
     "name": "stdout",
     "output_type": "stream",
     "text": [
      "start retrieval in: 中華民國刑法, total length:415\n"
     ]
    },
    {
     "name": "stderr",
     "output_type": "stream",
     "text": [
      "100%|██████████| 205/205 [01:47<00:00,  1.91it/s]\n"
     ]
    },
    {
     "name": "stdout",
     "output_type": "stream",
     "text": [
      "start retrieval in: 民法, total length:1439\n"
     ]
    },
    {
     "name": "stderr",
     "output_type": "stream",
     "text": [
      "100%|██████████| 717/717 [05:36<00:00,  2.13it/s]\n"
     ]
    },
    {
     "name": "stdout",
     "output_type": "stream",
     "text": [
      "start retrieval in: 民法, total length:1439\n"
     ]
    },
    {
     "name": "stderr",
     "output_type": "stream",
     "text": [
      "100%|██████████| 717/717 [05:52<00:00,  2.04it/s]\n"
     ]
    },
    {
     "name": "stdout",
     "output_type": "stream",
     "text": [
      "start retrieval in: 勞動基準法, total length:98\n"
     ]
    },
    {
     "name": "stderr",
     "output_type": "stream",
     "text": [
      "100%|██████████| 47/47 [00:30<00:00,  1.56it/s]\n"
     ]
    },
    {
     "name": "stdout",
     "output_type": "stream",
     "text": [
      "start retrieval in: 消費者保護法, total length:78\n"
     ]
    },
    {
     "name": "stderr",
     "output_type": "stream",
     "text": [
      "100%|██████████| 37/37 [00:21<00:00,  1.73it/s]\n"
     ]
    },
    {
     "name": "stdout",
     "output_type": "stream",
     "text": [
      "start retrieval in: 民法, total length:1439\n"
     ]
    },
    {
     "name": "stderr",
     "output_type": "stream",
     "text": [
      "100%|██████████| 717/717 [05:16<00:00,  2.26it/s]\n"
     ]
    },
    {
     "name": "stdout",
     "output_type": "stream",
     "text": [
      "start retrieval in: 勞動基準法, total length:98\n"
     ]
    },
    {
     "name": "stderr",
     "output_type": "stream",
     "text": [
      "100%|██████████| 47/47 [00:35<00:00,  1.33it/s]\n"
     ]
    },
    {
     "name": "stdout",
     "output_type": "stream",
     "text": [
      "start retrieval in: 刑事訴訟法, total length:710\n"
     ]
    },
    {
     "name": "stderr",
     "output_type": "stream",
     "text": [
      "100%|██████████| 353/353 [03:11<00:00,  1.84it/s]\n"
     ]
    },
    {
     "name": "stdout",
     "output_type": "stream",
     "text": [
      "start retrieval in: 中華民國刑法, total length:415\n"
     ]
    },
    {
     "name": "stderr",
     "output_type": "stream",
     "text": [
      "100%|██████████| 205/205 [01:58<00:00,  1.73it/s]\n"
     ]
    },
    {
     "name": "stdout",
     "output_type": "stream",
     "text": [
      "start retrieval in: 刑事訴訟法, total length:710\n"
     ]
    },
    {
     "name": "stderr",
     "output_type": "stream",
     "text": [
      "100%|██████████| 353/353 [04:07<00:00,  1.43it/s]\n"
     ]
    },
    {
     "name": "stdout",
     "output_type": "stream",
     "text": [
      "start retrieval in: 中華民國刑法, total length:415\n"
     ]
    },
    {
     "name": "stderr",
     "output_type": "stream",
     "text": [
      "100%|██████████| 205/205 [04:06<00:00,  1.20s/it]\n"
     ]
    },
    {
     "name": "stdout",
     "output_type": "stream",
     "text": [
      "start retrieval in: 中華民國刑法, total length:415\n"
     ]
    },
    {
     "name": "stderr",
     "output_type": "stream",
     "text": [
      "100%|██████████| 205/205 [01:56<00:00,  1.77it/s]\n"
     ]
    },
    {
     "name": "stdout",
     "output_type": "stream",
     "text": [
      "start retrieval in: 勞工職業災害保險及保護法, total length:109\n"
     ]
    },
    {
     "name": "stderr",
     "output_type": "stream",
     "text": [
      "100%|██████████| 52/52 [00:42<00:00,  1.23it/s]\n"
     ]
    },
    {
     "name": "stdout",
     "output_type": "stream",
     "text": [
      "start retrieval in: 個人資料保護法, total length:57\n"
     ]
    },
    {
     "name": "stderr",
     "output_type": "stream",
     "text": [
      "100%|██████████| 26/26 [00:20<00:00,  1.28it/s]\n"
     ]
    },
    {
     "name": "stdout",
     "output_type": "stream",
     "text": [
      "start retrieval in: 中華民國刑法, total length:415\n"
     ]
    },
    {
     "name": "stderr",
     "output_type": "stream",
     "text": [
      "100%|██████████| 205/205 [03:44<00:00,  1.10s/it]\n"
     ]
    },
    {
     "name": "stdout",
     "output_type": "stream",
     "text": [
      "start retrieval in: 中華民國刑法, total length:415\n"
     ]
    },
    {
     "name": "stderr",
     "output_type": "stream",
     "text": [
      "100%|██████████| 205/205 [02:13<00:00,  1.54it/s]\n"
     ]
    },
    {
     "name": "stdout",
     "output_type": "stream",
     "text": [
      "start retrieval in: 刑事訴訟法, total length:710\n"
     ]
    },
    {
     "name": "stderr",
     "output_type": "stream",
     "text": [
      "100%|██████████| 353/353 [03:18<00:00,  1.78it/s]\n"
     ]
    },
    {
     "name": "stdout",
     "output_type": "stream",
     "text": [
      "start retrieval in: 中華民國刑法, total length:415\n"
     ]
    },
    {
     "name": "stderr",
     "output_type": "stream",
     "text": [
      "100%|██████████| 205/205 [03:39<00:00,  1.07s/it]\n"
     ]
    },
    {
     "name": "stdout",
     "output_type": "stream",
     "text": [
      "start retrieval in: 中華民國刑法, total length:415\n"
     ]
    },
    {
     "name": "stderr",
     "output_type": "stream",
     "text": [
      "100%|██████████| 205/205 [02:21<00:00,  1.45it/s]\n"
     ]
    },
    {
     "name": "stdout",
     "output_type": "stream",
     "text": [
      "start retrieval in: 消費者保護法, total length:78\n"
     ]
    },
    {
     "name": "stderr",
     "output_type": "stream",
     "text": [
      "100%|██████████| 37/37 [00:24<00:00,  1.48it/s]\n"
     ]
    },
    {
     "name": "stdout",
     "output_type": "stream",
     "text": [
      "start retrieval in: 民法, total length:1439\n"
     ]
    },
    {
     "name": "stderr",
     "output_type": "stream",
     "text": [
      "100%|██████████| 717/717 [05:32<00:00,  2.15it/s]\n"
     ]
    },
    {
     "name": "stdout",
     "output_type": "stream",
     "text": [
      "start retrieval in: 刑事訴訟法, total length:710\n"
     ]
    },
    {
     "name": "stderr",
     "output_type": "stream",
     "text": [
      "100%|██████████| 353/353 [03:28<00:00,  1.69it/s]\n"
     ]
    },
    {
     "name": "stdout",
     "output_type": "stream",
     "text": [
      "start retrieval in: 勞動基準法, total length:98\n"
     ]
    },
    {
     "name": "stderr",
     "output_type": "stream",
     "text": [
      "100%|██████████| 47/47 [00:33<00:00,  1.41it/s]\n"
     ]
    },
    {
     "name": "stdout",
     "output_type": "stream",
     "text": [
      "start retrieval in: 民法, total length:1439\n"
     ]
    },
    {
     "name": "stderr",
     "output_type": "stream",
     "text": [
      "100%|██████████| 717/717 [05:20<00:00,  2.24it/s]\n"
     ]
    },
    {
     "name": "stdout",
     "output_type": "stream",
     "text": [
      "start retrieval in: 中華民國刑法, total length:415\n"
     ]
    },
    {
     "name": "stderr",
     "output_type": "stream",
     "text": [
      "100%|██████████| 205/205 [03:46<00:00,  1.11s/it]\n"
     ]
    },
    {
     "name": "stdout",
     "output_type": "stream",
     "text": [
      "start retrieval in: 刑事訴訟法, total length:710\n"
     ]
    },
    {
     "name": "stderr",
     "output_type": "stream",
     "text": [
      "100%|██████████| 353/353 [03:02<00:00,  1.93it/s]\n"
     ]
    },
    {
     "name": "stdout",
     "output_type": "stream",
     "text": [
      "start retrieval in: 中華民國刑法, total length:415\n"
     ]
    },
    {
     "name": "stderr",
     "output_type": "stream",
     "text": [
      "100%|██████████| 205/205 [01:48<00:00,  1.90it/s]\n"
     ]
    },
    {
     "name": "stdout",
     "output_type": "stream",
     "text": [
      "start retrieval in: 就業服務法, total length:85\n"
     ]
    },
    {
     "name": "stderr",
     "output_type": "stream",
     "text": [
      "100%|██████████| 40/40 [00:27<00:00,  1.45it/s]\n"
     ]
    },
    {
     "name": "stdout",
     "output_type": "stream",
     "text": [
      "start retrieval in: 中華民國刑法, total length:415\n"
     ]
    },
    {
     "name": "stderr",
     "output_type": "stream",
     "text": [
      "100%|██████████| 205/205 [01:52<00:00,  1.82it/s]\n"
     ]
    },
    {
     "name": "stdout",
     "output_type": "stream",
     "text": [
      "start retrieval in: 民法, total length:1439\n"
     ]
    },
    {
     "name": "stderr",
     "output_type": "stream",
     "text": [
      "100%|██████████| 717/717 [05:27<00:00,  2.19it/s]\n"
     ]
    },
    {
     "name": "stdout",
     "output_type": "stream",
     "text": [
      "start retrieval in: 勞動基準法, total length:98\n"
     ]
    },
    {
     "name": "stderr",
     "output_type": "stream",
     "text": [
      "100%|██████████| 47/47 [00:28<00:00,  1.68it/s]\n"
     ]
    },
    {
     "name": "stdout",
     "output_type": "stream",
     "text": [
      "start retrieval in: 勞工保險條例, total length:104\n"
     ]
    },
    {
     "name": "stderr",
     "output_type": "stream",
     "text": [
      "100%|██████████| 50/50 [00:30<00:00,  1.63it/s]\n"
     ]
    },
    {
     "name": "stdout",
     "output_type": "stream",
     "text": [
      "start retrieval in: 勞工退休金條例, total length:69\n"
     ]
    },
    {
     "name": "stderr",
     "output_type": "stream",
     "text": [
      "100%|██████████| 32/32 [00:20<00:00,  1.55it/s]\n"
     ]
    },
    {
     "name": "stdout",
     "output_type": "stream",
     "text": [
      "start retrieval in: 民法, total length:1439\n"
     ]
    },
    {
     "name": "stderr",
     "output_type": "stream",
     "text": [
      "100%|██████████| 717/717 [05:05<00:00,  2.35it/s]\n"
     ]
    },
    {
     "name": "stdout",
     "output_type": "stream",
     "text": [
      "start retrieval in: 民法, total length:1439\n"
     ]
    },
    {
     "name": "stderr",
     "output_type": "stream",
     "text": [
      "100%|██████████| 717/717 [05:21<00:00,  2.23it/s]\n"
     ]
    },
    {
     "name": "stdout",
     "output_type": "stream",
     "text": [
      "start retrieval in: 勞動基準法, total length:98\n"
     ]
    },
    {
     "name": "stderr",
     "output_type": "stream",
     "text": [
      "100%|██████████| 47/47 [00:37<00:00,  1.24it/s]\n"
     ]
    },
    {
     "name": "stdout",
     "output_type": "stream",
     "text": [
      "start retrieval in: 民法, total length:1439\n"
     ]
    },
    {
     "name": "stderr",
     "output_type": "stream",
     "text": [
      "100%|██████████| 717/717 [05:26<00:00,  2.19it/s]\n"
     ]
    },
    {
     "name": "stdout",
     "output_type": "stream",
     "text": [
      "start retrieval in: 公平交易法, total length:51\n"
     ]
    },
    {
     "name": "stderr",
     "output_type": "stream",
     "text": [
      "100%|██████████| 23/23 [00:17<00:00,  1.32it/s]\n"
     ]
    },
    {
     "name": "stdout",
     "output_type": "stream",
     "text": [
      "start retrieval in: 中華民國刑法, total length:415\n"
     ]
    },
    {
     "name": "stderr",
     "output_type": "stream",
     "text": [
      "100%|██████████| 205/205 [02:11<00:00,  1.56it/s]\n"
     ]
    },
    {
     "name": "stdout",
     "output_type": "stream",
     "text": [
      "start retrieval in: 民法, total length:1439\n"
     ]
    },
    {
     "name": "stderr",
     "output_type": "stream",
     "text": [
      "100%|██████████| 717/717 [05:23<00:00,  2.22it/s]\n"
     ]
    },
    {
     "name": "stdout",
     "output_type": "stream",
     "text": [
      "start retrieval in: 中華民國刑法, total length:415\n"
     ]
    },
    {
     "name": "stderr",
     "output_type": "stream",
     "text": [
      "100%|██████████| 205/205 [02:07<00:00,  1.61it/s]\n"
     ]
    },
    {
     "name": "stdout",
     "output_type": "stream",
     "text": [
      "start retrieval in: 土地法, total length:262\n"
     ]
    },
    {
     "name": "stderr",
     "output_type": "stream",
     "text": [
      "100%|██████████| 129/129 [00:54<00:00,  2.37it/s]\n"
     ]
    },
    {
     "name": "stdout",
     "output_type": "stream",
     "text": [
      "start retrieval in: 勞動基準法, total length:98\n"
     ]
    },
    {
     "name": "stderr",
     "output_type": "stream",
     "text": [
      "100%|██████████| 47/47 [00:35<00:00,  1.33it/s]\n"
     ]
    },
    {
     "name": "stdout",
     "output_type": "stream",
     "text": [
      "start retrieval in: 民法, total length:1439\n"
     ]
    },
    {
     "name": "stderr",
     "output_type": "stream",
     "text": [
      "100%|██████████| 717/717 [05:07<00:00,  2.33it/s]\n"
     ]
    },
    {
     "name": "stdout",
     "output_type": "stream",
     "text": [
      "start retrieval in: 商標法, total length:113\n"
     ]
    },
    {
     "name": "stderr",
     "output_type": "stream",
     "text": [
      "100%|██████████| 54/54 [00:36<00:00,  1.47it/s]\n"
     ]
    },
    {
     "name": "stdout",
     "output_type": "stream",
     "text": [
      "start retrieval in: 行政訴訟法, total length:390\n"
     ]
    },
    {
     "name": "stderr",
     "output_type": "stream",
     "text": [
      "100%|██████████| 193/193 [01:34<00:00,  2.05it/s]\n"
     ]
    },
    {
     "name": "stdout",
     "output_type": "stream",
     "text": [
      "start retrieval in: 行政程序法, total length:176\n"
     ]
    },
    {
     "name": "stderr",
     "output_type": "stream",
     "text": [
      "100%|██████████| 86/86 [00:44<00:00,  1.94it/s]\n"
     ]
    },
    {
     "name": "stdout",
     "output_type": "stream",
     "text": [
      "start retrieval in: 民法, total length:1439\n"
     ]
    },
    {
     "name": "stderr",
     "output_type": "stream",
     "text": [
      "100%|██████████| 717/717 [05:00<00:00,  2.39it/s]\n"
     ]
    },
    {
     "name": "stdout",
     "output_type": "stream",
     "text": [
      "start retrieval in: 中華民國憲法, total length:175\n"
     ]
    },
    {
     "name": "stderr",
     "output_type": "stream",
     "text": [
      "100%|██████████| 85/85 [00:38<00:00,  2.19it/s]\n"
     ]
    },
    {
     "name": "stdout",
     "output_type": "stream",
     "text": [
      "start retrieval in: 公民投票法, total length:56\n"
     ]
    },
    {
     "name": "stderr",
     "output_type": "stream",
     "text": [
      "100%|██████████| 26/26 [00:18<00:00,  1.40it/s]\n"
     ]
    },
    {
     "name": "stdout",
     "output_type": "stream",
     "text": [
      "start retrieval in: 電子簽章法, total length:22\n"
     ]
    },
    {
     "name": "stderr",
     "output_type": "stream",
     "text": [
      "100%|██████████| 9/9 [00:07<00:00,  1.16it/s]\n"
     ]
    },
    {
     "name": "stdout",
     "output_type": "stream",
     "text": [
      "start retrieval in: 民法, total length:1439\n"
     ]
    },
    {
     "name": "stderr",
     "output_type": "stream",
     "text": [
      "100%|██████████| 717/717 [05:11<00:00,  2.30it/s]\n"
     ]
    },
    {
     "name": "stdout",
     "output_type": "stream",
     "text": [
      "start retrieval in: 中華民國刑法, total length:415\n"
     ]
    },
    {
     "name": "stderr",
     "output_type": "stream",
     "text": [
      "100%|██████████| 205/205 [01:57<00:00,  1.74it/s]\n"
     ]
    },
    {
     "name": "stdout",
     "output_type": "stream",
     "text": [
      "start retrieval in: 刑事訴訟法, total length:710\n"
     ]
    },
    {
     "name": "stderr",
     "output_type": "stream",
     "text": [
      "100%|██████████| 353/353 [03:29<00:00,  1.69it/s]\n"
     ]
    },
    {
     "name": "stdout",
     "output_type": "stream",
     "text": [
      "start retrieval in: 中華民國刑法, total length:415\n"
     ]
    },
    {
     "name": "stderr",
     "output_type": "stream",
     "text": [
      "100%|██████████| 205/205 [01:46<00:00,  1.93it/s]\n"
     ]
    },
    {
     "name": "stdout",
     "output_type": "stream",
     "text": [
      "start retrieval in: 中華民國刑法, total length:415\n"
     ]
    },
    {
     "name": "stderr",
     "output_type": "stream",
     "text": [
      "100%|██████████| 205/205 [02:17<00:00,  1.49it/s]\n"
     ]
    },
    {
     "name": "stdout",
     "output_type": "stream",
     "text": [
      "start retrieval in: 勞工保險條例, total length:104\n"
     ]
    },
    {
     "name": "stderr",
     "output_type": "stream",
     "text": [
      "100%|██████████| 50/50 [00:31<00:00,  1.59it/s]\n"
     ]
    },
    {
     "name": "stdout",
     "output_type": "stream",
     "text": [
      "start retrieval in: 勞工健康保護規則, total length:28\n"
     ]
    },
    {
     "name": "stderr",
     "output_type": "stream",
     "text": [
      "100%|██████████| 12/12 [00:09<00:00,  1.31it/s]\n"
     ]
    },
    {
     "name": "stdout",
     "output_type": "stream",
     "text": [
      "start retrieval in: 家庭暴力防治法, total length:77\n"
     ]
    },
    {
     "name": "stderr",
     "output_type": "stream",
     "text": [
      "100%|██████████| 36/36 [00:32<00:00,  1.11it/s]\n"
     ]
    },
    {
     "name": "stdout",
     "output_type": "stream",
     "text": [
      "start retrieval in: 監獄行刑法施行細則, total length:59\n"
     ]
    },
    {
     "name": "stderr",
     "output_type": "stream",
     "text": [
      "100%|██████████| 27/27 [00:14<00:00,  1.88it/s]\n"
     ]
    },
    {
     "name": "stdout",
     "output_type": "stream",
     "text": [
      "start retrieval in: 民法, total length:1439\n"
     ]
    },
    {
     "name": "stderr",
     "output_type": "stream",
     "text": [
      "100%|██████████| 717/717 [05:10<00:00,  2.31it/s]\n"
     ]
    },
    {
     "name": "stdout",
     "output_type": "stream",
     "text": [
      "start retrieval in: 中華民國刑法, total length:415\n"
     ]
    },
    {
     "name": "stderr",
     "output_type": "stream",
     "text": [
      "100%|██████████| 205/205 [02:06<00:00,  1.62it/s]\n"
     ]
    },
    {
     "name": "stdout",
     "output_type": "stream",
     "text": [
      "start retrieval in: 中華民國刑法, total length:415\n"
     ]
    },
    {
     "name": "stderr",
     "output_type": "stream",
     "text": [
      "100%|██████████| 205/205 [02:02<00:00,  1.67it/s]\n"
     ]
    },
    {
     "name": "stdout",
     "output_type": "stream",
     "text": [
      "start retrieval in: 商標法, total length:113\n"
     ]
    },
    {
     "name": "stderr",
     "output_type": "stream",
     "text": [
      "100%|██████████| 54/54 [00:31<00:00,  1.71it/s]\n"
     ]
    },
    {
     "name": "stdout",
     "output_type": "stream",
     "text": [
      "start retrieval in: 民法, total length:1439\n"
     ]
    },
    {
     "name": "stderr",
     "output_type": "stream",
     "text": [
      "100%|██████████| 717/717 [05:38<00:00,  2.12it/s]\n"
     ]
    },
    {
     "name": "stdout",
     "output_type": "stream",
     "text": [
      "start retrieval in: 勞動基準法, total length:98\n"
     ]
    },
    {
     "name": "stderr",
     "output_type": "stream",
     "text": [
      "100%|██████████| 47/47 [00:31<00:00,  1.50it/s]\n"
     ]
    },
    {
     "name": "stdout",
     "output_type": "stream",
     "text": [
      "start retrieval in: 銀行法, total length:204\n"
     ]
    },
    {
     "name": "stderr",
     "output_type": "stream",
     "text": [
      "100%|██████████| 100/100 [00:47<00:00,  2.12it/s]\n"
     ]
    },
    {
     "name": "stdout",
     "output_type": "stream",
     "text": [
      "start retrieval in: 中華民國刑法, total length:415\n"
     ]
    },
    {
     "name": "stderr",
     "output_type": "stream",
     "text": [
      "100%|██████████| 205/205 [02:03<00:00,  1.67it/s]\n"
     ]
    },
    {
     "name": "stdout",
     "output_type": "stream",
     "text": [
      "start retrieval in: 民法, total length:1439\n"
     ]
    },
    {
     "name": "stderr",
     "output_type": "stream",
     "text": [
      "100%|██████████| 717/717 [05:31<00:00,  2.16it/s]\n"
     ]
    },
    {
     "name": "stdout",
     "output_type": "stream",
     "text": [
      "start retrieval in: 道路交通管理處罰條例, total length:133\n"
     ]
    },
    {
     "name": "stderr",
     "output_type": "stream",
     "text": [
      "100%|██████████| 64/64 [01:09<00:00,  1.09s/it]\n"
     ]
    },
    {
     "name": "stdout",
     "output_type": "stream",
     "text": [
      "start retrieval in: 中華民國刑法, total length:415\n"
     ]
    },
    {
     "name": "stderr",
     "output_type": "stream",
     "text": [
      "100%|██████████| 205/205 [02:10<00:00,  1.58it/s]\n"
     ]
    },
    {
     "name": "stdout",
     "output_type": "stream",
     "text": [
      "start retrieval in: 消費者保護法, total length:78\n"
     ]
    },
    {
     "name": "stderr",
     "output_type": "stream",
     "text": [
      "100%|██████████| 37/37 [00:22<00:00,  1.64it/s]\n"
     ]
    },
    {
     "name": "stdout",
     "output_type": "stream",
     "text": [
      "start retrieval in: 道路交通管理處罰條例, total length:133\n"
     ]
    },
    {
     "name": "stderr",
     "output_type": "stream",
     "text": [
      "100%|██████████| 64/64 [01:17<00:00,  1.20s/it]\n"
     ]
    },
    {
     "name": "stdout",
     "output_type": "stream",
     "text": [
      "start retrieval in: 中華民國刑法, total length:415\n"
     ]
    },
    {
     "name": "stderr",
     "output_type": "stream",
     "text": [
      "100%|██████████| 205/205 [02:29<00:00,  1.37it/s]\n"
     ]
    },
    {
     "name": "stdout",
     "output_type": "stream",
     "text": [
      "start retrieval in: 道路交通管理處罰條例, total length:133\n"
     ]
    },
    {
     "name": "stderr",
     "output_type": "stream",
     "text": [
      "100%|██████████| 64/64 [00:59<00:00,  1.07it/s]\n"
     ]
    },
    {
     "name": "stdout",
     "output_type": "stream",
     "text": [
      "start retrieval in: 教師法, total length:53\n"
     ]
    },
    {
     "name": "stderr",
     "output_type": "stream",
     "text": [
      "100%|██████████| 24/24 [00:20<00:00,  1.19it/s]\n"
     ]
    },
    {
     "name": "stdout",
     "output_type": "stream",
     "text": [
      "start retrieval in: 公司法, total length:533\n"
     ]
    },
    {
     "name": "stderr",
     "output_type": "stream",
     "text": [
      "100%|██████████| 264/264 [02:01<00:00,  2.18it/s]\n"
     ]
    },
    {
     "name": "stdout",
     "output_type": "stream",
     "text": [
      "start retrieval in: 勞動基準法, total length:98\n"
     ]
    },
    {
     "name": "stderr",
     "output_type": "stream",
     "text": [
      "100%|██████████| 47/47 [00:30<00:00,  1.53it/s]\n"
     ]
    },
    {
     "name": "stdout",
     "output_type": "stream",
     "text": [
      "start retrieval in: 公民投票法, total length:56\n"
     ]
    },
    {
     "name": "stderr",
     "output_type": "stream",
     "text": [
      "100%|██████████| 26/26 [00:18<00:00,  1.38it/s]\n"
     ]
    },
    {
     "name": "stdout",
     "output_type": "stream",
     "text": [
      "start retrieval in: 刑事訴訟法, total length:710\n"
     ]
    },
    {
     "name": "stderr",
     "output_type": "stream",
     "text": [
      "100%|██████████| 353/353 [04:47<00:00,  1.23it/s]\n"
     ]
    },
    {
     "name": "stdout",
     "output_type": "stream",
     "text": [
      "start retrieval in: 中華民國刑法, total length:415\n"
     ]
    },
    {
     "name": "stderr",
     "output_type": "stream",
     "text": [
      "100%|██████████| 205/205 [04:27<00:00,  1.31s/it]\n"
     ]
    },
    {
     "name": "stdout",
     "output_type": "stream",
     "text": [
      "start retrieval in: 嚴重特殊傳染性肺炎防治及紓困振興特別條例, total length:20\n"
     ]
    },
    {
     "name": "stderr",
     "output_type": "stream",
     "text": [
      "100%|██████████| 8/8 [00:10<00:00,  1.31s/it]\n"
     ]
    },
    {
     "name": "stdout",
     "output_type": "stream",
     "text": [
      "start retrieval in: 民法, total length:1439\n"
     ]
    },
    {
     "name": "stderr",
     "output_type": "stream",
     "text": [
      "100%|██████████| 717/717 [07:17<00:00,  1.64it/s]\n"
     ]
    },
    {
     "name": "stdout",
     "output_type": "stream",
     "text": [
      "start retrieval in: 民法, total length:1439\n"
     ]
    },
    {
     "name": "stderr",
     "output_type": "stream",
     "text": [
      "100%|██████████| 717/717 [06:09<00:00,  1.94it/s]\n"
     ]
    },
    {
     "name": "stdout",
     "output_type": "stream",
     "text": [
      "start retrieval in: 民法, total length:1439\n"
     ]
    },
    {
     "name": "stderr",
     "output_type": "stream",
     "text": [
      "100%|██████████| 717/717 [06:22<00:00,  1.87it/s]\n"
     ]
    },
    {
     "name": "stdout",
     "output_type": "stream",
     "text": [
      "start retrieval in: 訴願法, total length:101\n"
     ]
    },
    {
     "name": "stderr",
     "output_type": "stream",
     "text": [
      "100%|██████████| 48/48 [00:30<00:00,  1.56it/s]\n"
     ]
    },
    {
     "name": "stdout",
     "output_type": "stream",
     "text": [
      "start retrieval in: 憲法訴訟法, total length:95\n"
     ]
    },
    {
     "name": "stderr",
     "output_type": "stream",
     "text": [
      "100%|██████████| 45/45 [00:30<00:00,  1.47it/s]\n"
     ]
    },
    {
     "name": "stdout",
     "output_type": "stream",
     "text": [
      "start retrieval in: 行政訴訟法, total length:390\n"
     ]
    },
    {
     "name": "stderr",
     "output_type": "stream",
     "text": [
      "100%|██████████| 193/193 [02:03<00:00,  1.57it/s]\n"
     ]
    },
    {
     "name": "stdout",
     "output_type": "stream",
     "text": [
      "start retrieval in: 行政程序法, total length:176\n"
     ]
    },
    {
     "name": "stderr",
     "output_type": "stream",
     "text": [
      "100%|██████████| 86/86 [00:53<00:00,  1.61it/s]\n"
     ]
    },
    {
     "name": "stdout",
     "output_type": "stream",
     "text": [
      "start retrieval in: 公路法, total length:100\n"
     ]
    },
    {
     "name": "stderr",
     "output_type": "stream",
     "text": [
      "100%|██████████| 48/48 [00:32<00:00,  1.46it/s]\n"
     ]
    },
    {
     "name": "stdout",
     "output_type": "stream",
     "text": [
      "start retrieval in: 民事訴訟法, total length:800\n"
     ]
    },
    {
     "name": "stderr",
     "output_type": "stream",
     "text": [
      "100%|██████████| 398/398 [04:08<00:00,  1.60it/s]\n"
     ]
    },
    {
     "name": "stdout",
     "output_type": "stream",
     "text": [
      "start retrieval in: 土地徵收條例, total length:71\n"
     ]
    },
    {
     "name": "stderr",
     "output_type": "stream",
     "text": [
      "100%|██████████| 33/33 [00:23<00:00,  1.42it/s]\n"
     ]
    },
    {
     "name": "stdout",
     "output_type": "stream",
     "text": [
      "start retrieval in: 土地法, total length:262\n"
     ]
    },
    {
     "name": "stderr",
     "output_type": "stream",
     "text": [
      "100%|██████████| 129/129 [00:51<00:00,  2.50it/s]\n"
     ]
    },
    {
     "name": "stdout",
     "output_type": "stream",
     "text": [
      "start retrieval in: 道路交通管理處罰條例, total length:133\n"
     ]
    },
    {
     "name": "stderr",
     "output_type": "stream",
     "text": [
      "100%|██████████| 64/64 [01:11<00:00,  1.11s/it]\n"
     ]
    },
    {
     "name": "stdout",
     "output_type": "stream",
     "text": [
      "start retrieval in: 行政訴訟法, total length:390\n"
     ]
    },
    {
     "name": "stderr",
     "output_type": "stream",
     "text": [
      "100%|██████████| 193/193 [02:01<00:00,  1.59it/s]\n"
     ]
    },
    {
     "name": "stdout",
     "output_type": "stream",
     "text": [
      "start retrieval in: 勞動基準法, total length:98\n"
     ]
    },
    {
     "name": "stderr",
     "output_type": "stream",
     "text": [
      "100%|██████████| 47/47 [00:35<00:00,  1.32it/s]\n"
     ]
    },
    {
     "name": "stdout",
     "output_type": "stream",
     "text": [
      "start retrieval in: 中華民國刑法, total length:415\n"
     ]
    },
    {
     "name": "stderr",
     "output_type": "stream",
     "text": [
      "100%|██████████| 205/205 [01:57<00:00,  1.75it/s]\n"
     ]
    }
   ],
   "source": [
    "import json\n",
    "import torch\n",
    "from tqdm import tqdm\n",
    "# data source\n",
    "with open('./data/law.json', 'r') as file:\n",
    "    law_data = json.load(file)\n",
    "\n",
    "\n",
    "total_aug_law = {'id':[], 'aug_law':[]}\n",
    "\n",
    "for idx in range(len(merge_df)):\n",
    "    this_aug_law = []\n",
    "    scene = merge_df.iloc[idx]['situation']\n",
    "    total_aug_law['id'].append(merge_df.iloc[idx]['id'])\n",
    "    for e in merge_df.iloc[idx]['REF']:\n",
    "        try:\n",
    "            law = law_data[e]\n",
    "            total_row = list(law.keys())\n",
    "            num_law = len(law)\n",
    "            print(f'start retrieval in: {e}, total length:{num_law}')\n",
    "            for i in tqdm(range(2, num_law-3, 2)):\n",
    "                key = total_row[i-2:i+3]\n",
    "                sub_law = [e+k+':'+ law[k] for k in key]\n",
    "                query = ','.join(sub_law)\n",
    "                messages = [\n",
    "                    {\"role\": \"user\", \"content\": f\"參考台灣部份法律條文，判斷以下情境，是否有相關條文，與那條法律條文最相關: 法律條文:{query}\\n情境：{scene}\"},\n",
    "                ]\n",
    "\n",
    "                text = processor.apply_chat_template(\n",
    "                    messages, tokenize=False, add_generation_prompt=True\n",
    "                )\n",
    "                inputs = processor(\n",
    "                    text=[text],\n",
    "                    padding=True,\n",
    "                    return_tensors=\"pt\",\n",
    "                )\n",
    "                inputs = inputs.to(\"cuda\")\n",
    "                generated_ids = model.generate(**inputs, max_new_tokens=2048, output_logits=True, return_dict_in_generate=True, do_sample=False, pad_token_id=tokenizer.eos_token_id)\n",
    "                yesno_probs = torch.stack(generated_ids['logits'], dim=1).softmax(dim=-1)\n",
    "                yesno_probs = yesno_probs[0, :1, [33476, 21043]].float().cpu().numpy()\n",
    "                # print(generated_ids['sequences'])\n",
    "                generated_ids_trimmed = [\n",
    "                out_ids[len(in_ids) :] for in_ids, out_ids in zip(inputs.input_ids, generated_ids['sequences'])\n",
    "                ]\n",
    "\n",
    "                # print(generated_ids_trimmed)\n",
    "                output_text = processor.batch_decode(\n",
    "                    generated_ids_trimmed, skip_special_tokens=True, clean_up_tokenization_spaces=False\n",
    "                )\n",
    "                # print(output_text)\n",
    "\n",
    "                # print(yesno_probs[0][1])\n",
    "                score = yesno_probs[0][1]\n",
    "                T = 0.9 if e=='民法' or e=='中華民國刑法' else 0.8\n",
    "                if score>T:\n",
    "                    # print(score, output_text[0])\n",
    "                    this_aug_law.append((score, output_text[0].split(',')[1].replace(' ', '')))\n",
    "                # print(generated_ids.keys())\n",
    "                # print(generated_ids['sequences'][:5])\n",
    "                # print(generated_ids['logits'][0].shape)\n",
    "        except:\n",
    "            continue\n",
    "            # break\n",
    "    # print(this_aug_law)\n",
    "    total_aug_law['aug_law'].append(this_aug_law)\n",
    "    # break"
   ]
  },
  {
   "cell_type": "code",
   "execution_count": 60,
   "metadata": {},
   "outputs": [
    {
     "name": "stdout",
     "output_type": "stream",
     "text": [
      "{'id': ['test_0'], 'aug_law': [[(0.8366525, '就業服務法第5條'), (0.82215357, '就業服務法第7條'), (0.8982708, '就業服務法第55條'), (0.8449066, '就業服務法第70條')]]}\n"
     ]
    }
   ],
   "source": [
    "print(total_aug_law)"
   ]
  },
  {
   "cell_type": "code",
   "execution_count": 77,
   "metadata": {},
   "outputs": [],
   "source": [
    "aug_df = pd.DataFrame(total_aug_law)\n",
    "aug_merge_df = pd.merge(merge_df, aug_df, on='id')"
   ]
  },
  {
   "cell_type": "code",
   "execution_count": 78,
   "metadata": {},
   "outputs": [
    {
     "data": {
      "text/html": [
       "<div>\n",
       "<style scoped>\n",
       "    .dataframe tbody tr th:only-of-type {\n",
       "        vertical-align: middle;\n",
       "    }\n",
       "\n",
       "    .dataframe tbody tr th {\n",
       "        vertical-align: top;\n",
       "    }\n",
       "\n",
       "    .dataframe thead th {\n",
       "        text-align: right;\n",
       "    }\n",
       "</style>\n",
       "<table border=\"1\" class=\"dataframe\">\n",
       "  <thead>\n",
       "    <tr style=\"text-align: right;\">\n",
       "      <th></th>\n",
       "      <th>id</th>\n",
       "      <th>TARGET</th>\n",
       "      <th>REF</th>\n",
       "      <th>situation</th>\n",
       "      <th>aug_law</th>\n",
       "    </tr>\n",
       "  </thead>\n",
       "  <tbody>\n",
       "    <tr>\n",
       "      <th>0</th>\n",
       "      <td>test_0</td>\n",
       "      <td>就業服務法第53條,就業服務法第54條</td>\n",
       "      <td>[就業服務法]</td>\n",
       "      <td>外籍勞工在合約到期後如何變更雇主?各位好,請教一下,如果外籍勞工在合約期滿後想要更換雇主,現...</td>\n",
       "      <td>[(0.82215357, 就業服務法第7條)]</td>\n",
       "    </tr>\n",
       "    <tr>\n",
       "      <th>1</th>\n",
       "      <td>test_1</td>\n",
       "      <td>民法第1055條,民法第1094條,民法第1089條,民法第1084條</td>\n",
       "      <td>[民法]</td>\n",
       "      <td>離婚後,我們雖然共同擁有監護權和扶養權,但前夫卻限制我與小孩進行通話、會面及同住。這樣的做法...</td>\n",
       "      <td>[(0.9684313, 民法第128條), (0.932414, 民法第136條), (0...</td>\n",
       "    </tr>\n",
       "    <tr>\n",
       "      <th>2</th>\n",
       "      <td>test_2</td>\n",
       "      <td>全民健康保險法第84條,勞工保險條例第72條,勞工保險條例第11條,勞工保險條例第72條之1...</td>\n",
       "      <td>[勞工保險條例, 全民健康保險法]</td>\n",
       "      <td>若未提交離職申請書,可能會引發哪些法律上的問題呢?因為只工作一天就離開,算不算試用期但最終選...</td>\n",
       "      <td>[(0.86816466, 勞工保險條例第3條), (0.9108135, 勞工保險條例第1...</td>\n",
       "    </tr>\n",
       "    <tr>\n",
       "      <th>3</th>\n",
       "      <td>test_3</td>\n",
       "      <td>民法第184條,民法第195條,民法第767條,民法第191條</td>\n",
       "      <td>[民法]</td>\n",
       "      <td>自家樹葉自然而然掉落到樓下鄰居的地方,是否會涉及到任何法律上的違規行為?</td>\n",
       "      <td>[(0.9707046, 民法第185條), (0.9825011, 民法第188條), (...</td>\n",
       "    </tr>\n",
       "    <tr>\n",
       "      <th>4</th>\n",
       "      <td>test_4</td>\n",
       "      <td>中華民國刑法第305條,中華民國刑法第304條,中華民國刑法第306條</td>\n",
       "      <td>[中華民國刑法]</td>\n",
       "      <td>為了維護公共利益而奪取他人手機在電影院觀影時,如果我注意到前方有一位男子A在進行盜錄,出於保...</td>\n",
       "      <td>[(0.94947684, 中華民國刑法第14條), (0.9950848, 中華民國刑法第...</td>\n",
       "    </tr>\n",
       "  </tbody>\n",
       "</table>\n",
       "</div>"
      ],
      "text/plain": [
       "       id                                             TARGET  \\\n",
       "0  test_0                                就業服務法第53條,就業服務法第54條   \n",
       "1  test_1                民法第1055條,民法第1094條,民法第1089條,民法第1084條   \n",
       "2  test_2  全民健康保險法第84條,勞工保險條例第72條,勞工保險條例第11條,勞工保險條例第72條之1...   \n",
       "3  test_3                    民法第184條,民法第195條,民法第767條,民法第191條   \n",
       "4  test_4                中華民國刑法第305條,中華民國刑法第304條,中華民國刑法第306條   \n",
       "\n",
       "                 REF                                          situation  \\\n",
       "0            [就業服務法]  外籍勞工在合約到期後如何變更雇主?各位好,請教一下,如果外籍勞工在合約期滿後想要更換雇主,現...   \n",
       "1               [民法]  離婚後,我們雖然共同擁有監護權和扶養權,但前夫卻限制我與小孩進行通話、會面及同住。這樣的做法...   \n",
       "2  [勞工保險條例, 全民健康保險法]  若未提交離職申請書,可能會引發哪些法律上的問題呢?因為只工作一天就離開,算不算試用期但最終選...   \n",
       "3               [民法]               自家樹葉自然而然掉落到樓下鄰居的地方,是否會涉及到任何法律上的違規行為?   \n",
       "4           [中華民國刑法]  為了維護公共利益而奪取他人手機在電影院觀影時,如果我注意到前方有一位男子A在進行盜錄,出於保...   \n",
       "\n",
       "                                             aug_law  \n",
       "0                           [(0.82215357, 就業服務法第7條)]  \n",
       "1  [(0.9684313, 民法第128條), (0.932414, 民法第136條), (0...  \n",
       "2  [(0.86816466, 勞工保險條例第3條), (0.9108135, 勞工保險條例第1...  \n",
       "3  [(0.9707046, 民法第185條), (0.9825011, 民法第188條), (...  \n",
       "4  [(0.94947684, 中華民國刑法第14條), (0.9950848, 中華民國刑法第...  "
      ]
     },
     "execution_count": 78,
     "metadata": {},
     "output_type": "execute_result"
    }
   ],
   "source": [
    "aug_merge_df.head()"
   ]
  },
  {
   "cell_type": "code",
   "execution_count": 79,
   "metadata": {},
   "outputs": [],
   "source": [
    "aug_merge_df.to_csv('./out_all.csv', index=False)  "
   ]
  },
  {
   "cell_type": "code",
   "execution_count": 90,
   "metadata": {},
   "outputs": [
    {
     "name": "stdout",
     "output_type": "stream",
     "text": [
      "{'id': ['test_0', 'test_1', 'test_2', 'test_3', 'test_4', 'test_5', 'test_6', 'test_7', 'test_8', 'test_9', 'test_10', 'test_11', 'test_12', 'test_13', 'test_14', 'test_15', 'test_16', 'test_17', 'test_18', 'test_19', 'test_20', 'test_21', 'test_22', 'test_23', 'test_24', 'test_25', 'test_26', 'test_27', 'test_28', 'test_29', 'test_30', 'test_31', 'test_32', 'test_33', 'test_34', 'test_35', 'test_36', 'test_37', 'test_38', 'test_39', 'test_40', 'test_41', 'test_42', 'test_43', 'test_44', 'test_45', 'test_46', 'test_47', 'test_48', 'test_49', 'test_50', 'test_51', 'test_52', 'test_53', 'test_54', 'test_55', 'test_56', 'test_57', 'test_58', 'test_59', 'test_60', 'test_61', 'test_62', 'test_63', 'test_64', 'test_65', 'test_66', 'test_67', 'test_68', 'test_69', 'test_70', 'test_71', 'test_72', 'test_73', 'test_74', 'test_75', 'test_76', 'test_77', 'test_78', 'test_79', 'test_80', 'test_81', 'test_82', 'test_83', 'test_84', 'test_85', 'test_86', 'test_87', 'test_88', 'test_89', 'test_90', 'test_91', 'test_92', 'test_93', 'test_94', 'test_95', 'test_96', 'test_97', 'test_98', 'test_99', 'test_100', 'test_101', 'test_102', 'test_103', 'test_104', 'test_105', 'test_106', 'test_107', 'test_108', 'test_109', 'test_110', 'test_111', 'test_112', 'test_113', 'test_114', 'test_115', 'test_116', 'test_117', 'test_118', 'test_119', 'test_120', 'test_121', 'test_122', 'test_123', 'test_124', 'test_125', 'test_126', 'test_127', 'test_128', 'test_129', 'test_130', 'test_131', 'test_132', 'test_133', 'test_134', 'test_135', 'test_136', 'test_137', 'test_138', 'test_139', 'test_140', 'test_141', 'test_142', 'test_143', 'test_144', 'test_145', 'test_146', 'test_147', 'test_148', 'test_149', 'test_150', 'test_151', 'test_152', 'test_153', 'test_154', 'test_155', 'test_156', 'test_157', 'test_158', 'test_159', 'test_160', 'test_161', 'test_162', 'test_163', 'test_164', 'test_165', 'test_166', 'test_167', 'test_168', 'test_169', 'test_170', 'test_171', 'test_172', 'test_173', 'test_174', 'test_175', 'test_176', 'test_177', 'test_178', 'test_179', 'test_180', 'test_181', 'test_182', 'test_183', 'test_184', 'test_185', 'test_186', 'test_187', 'test_188', 'test_189', 'test_190', 'test_191', 'test_192', 'test_193', 'test_194', 'test_195', 'test_196', 'test_197', 'test_198', 'test_199'], 'TARGET': ['就業服務法第53條,就業服務法第54條,就業服務法第7條', '民法第1055條,民法第1094條,民法第1089條,民法第1084條,民法第195條,民法第1120條,民法第825條', '全民健康保險法第84條,勞工保險條例第72條,勞工保險條例第11條,勞工保險條例第72條之1,全民健康保險法第15條,全民健康保險法第16條,勞工保險條例第18條,勞工保險條例第3條,全民健康保險法第3條', '民法第184條,民法第195條,民法第767條,民法第191條,民法第822條,民法第825條,民法第195條', '中華民國刑法第305條,中華民國刑法第304條,中華民國刑法第306條,中華民國刑法第31條,中華民國刑法第38條之1,中華民國刑法第43條', '民法第1148條,民法第1145條,民法第1144條,民法第1142條,民法第822條', '家庭暴力防治法第3條,中華民國刑法第305條,家庭暴力防治法第14條,家庭暴力防治法第2條,家庭暴力防治法第15條,家庭暴力防治法第13條,中華民國刑法第90條,中華民國刑法第31條,中華民國刑法第38條之1', '民法第184條,民法第188條,民法第195條,民法第185條', '道路交通標誌標線號誌設定規則第183條,道路交通管理處罰條例第82條,道路交通管理處罰條例第3條,道路交通管理處罰條例第63條,道路交通管理處罰條例第61條', '民法第14條,民法第12條,民法第15條,民法第195條,民法第185條,民法第1176條', '中華民國刑法第309條,中華民國刑法第44條,中華民國刑法第32條,中華民國刑法第311條', '民法第423條,民法第822條,民法第185條,民法第195條', '勞動基準法第22條,勞動基準法第80條之1,勞動基準法第18條,勞動基準法第62條', '勞動基準法第32條,勞動基準法第3條,勞動基準法第83條,勞動基準法第18條', '民法第1055條,民法第195條,民法第1055條,民法第1078條', '個人資料保護法第19條,個人資料保護法第20條,個人資料保護法第16條,個人資料保護法第1條,個人資料保護法第30條,個人資料保護法第7條', '公司法第15條,公司法第19條,公司法第15條,公司法第167條之1', '集會遊行法第4條,中華民國憲法第23條,中華民國憲法第14條,中華民國憲法第22條,中華民國憲法第24條', '刑事訴訟法第31條,刑事訴訟法第98條,刑事訴訟法第33條,刑事訴訟法第95條,刑事訴訟法第37條,刑事訴訟法第180條,刑事訴訟法第34條,刑事訴訟法第450條,刑事訴訟法第509條,刑事訴訟法第119條', '民法第188條,民法第224條,民法第195條,民法第185條,民法第217條', '民法第27條,民法第529條,民法第25條,民法第528條,民法第26條,民法第24條,民法第185條,民法第195條,民法第822條', '勞動基準法第70條,勞動基準法第79條,個人資料保護法第20條,個人資料保護法第2條,個人資料保護法第15條,個人資料保護法第41條,個人資料保護法第20條之1,個人資料保護法第1條之1,個人資料保護法第30條,個人資料保護法第7條', '勞工職業災害保險及保護法第7條,勞動基準法第10條之1,勞動基準法第71條,勞工職業災害保險及保護法第5條,勞動基準法第70條,勞工保險條例第33條,勞工保險條例第40條,勞工保險條例第38條,勞工保險條例第36條,勞工職業災害保險及保護法第2條,勞動基準法第80條之1,勞動基準法第3條,勞動基準法第83條', '中華民國刑法第47條,中華民國刑法第277條,刑事訴訟法第287條,中華民國刑法第59條,中華民國刑法第308條,中華民國刑法第19條,中華民國刑法第284條,中華民國刑法第23條,刑事訴訟法第308條,刑事訴訟法第450條,刑事訴訟法第452條,中華民國刑法第43條', '行政程序法第134條,行政程序法第132條,行政程序法第133條,行政程序法第131條,行政程序法第130條,行政程序法第18條,行政程序法第129條', '民法第416條,民法第195條,民法第825條,民法第822條', '勞動基準法第24條,勞動基準法第35條,勞動基準法第80條之1,勞動基準法第35條,勞動基準法第23條', '中華民國刑法第185條之4,中華民國刑法第43條,中華民國刑法第40條之2,中華民國刑法第38條之1', '民法第359條之1,消費者保護法第19條,民法第359條,民法第259條之1,消費者保護法第19條之1,民法第259條,消費者保護法第19條之2,消費者保護法第19條,消費者保護法第19條,民法第185條', '民法第979條,民法第967條,民法第969條,民法第968條,民法第822條,民法第824條,民法第195條', '中華民國刑法第185條之3,刑事訴訟法第100條之1,刑事訴訟法第95條,刑事訴訟法第229條,中華民國刑法第44條,刑事訴訟法第491條,刑事訴訟法第509條', '公務員服務法第15條,法院組織法第83條,法院組織法第7-6條,法院組織法第11條,法院組織法第5條', '警察職權行使法第29條,警察職權行使法第6條,警察職權行使法第9條,警察職權行使法第21條', '電業法第73條之1,電業法第77條,中華民國刑法第320條,電業法第73條,中華民國刑法第321條,電業法第56條,中華民國刑法第32條,中華民國刑法第38條,中華民國刑法第40條之2', '中華民國刑法第231條,中華民國刑法第43條,中華民國刑法第31條,中華民國刑法第339條之4', '刑事訴訟法第92條,刑事訴訟法第101條,刑事訴訟法第75條,刑事訴訟法第76條,刑事訴訟法第77條,刑事訴訟法第509條,刑事訴訟法第450條,刑事訴訟法第207條', '教育基本法第9條,教育基本法第11條,教師法第17條,教育基本法第13條,教育基本法第10條,教育基本法第8條,教師法第32條,中華民國憲法第23條,中華民國憲法第24條,中華民國憲法第22條,中華民國憲法第14條', '行政訴訟法第116條,行政訴訟法第275條,行政訴訟法第276條,行政訴訟法第237-15條', '民法第217條,民法第217條,民法第195條,民法第185條', '民法第214條,民法第215條,民法第213條,民法第184條,民法第191條,民法第196條,民法第799條之1,民法第195條,民法第217條', '中華民國刑法第8條,中華民國刑法第3條,中華民國刑法第7條,中華民國刑法第6條,中華民國刑法第4條,中華民國刑法第38條之1,中華民國刑法第43條,中華民國刑法第31條', '中華民國憲法第23條,中華民國憲法第23條,中華民國憲法第22條', '民法第197條,民法第195條,民法第822條,民法第185條', '民法第224條,民法第195條,民法第191條之2,民法第185條', '個人資料保護法第2條,個人資料保護法第41條,個人資料保護法第20條,個人資料保護法第30條,個人資料保護法第1條,個人資料保護法第7條', '民法第805條,民法第195條,民法第1106條,民法第948條', '行政程序法第6條,行政程序法第119條,行政程序法第12條,行政程序法第101條,行政程序法第130條', '中華民國刑法第328條,中華民國刑法第330條,中華民國刑法第329條,中華民國刑法第31條,中華民國刑法第43條,中華民國刑法第304條', '嚴重特殊傳染性肺炎防治及紓困振興特別條例第7條,中央政府機關組織基準法第3條,中央流行疫情指揮中心設置要點第1點,嚴重特殊傳染性肺炎防治及紓困振興特別條例第9條,嚴重特殊傳染性肺炎防治及紓困振興特別條例第15條,嚴重特殊傳染性肺炎防治及紓困振興特別條例第11條', '民法第758條,民法第179條,中華民國刑法第359條,民法第765條,民法第195條,民法第185條,中華民國刑法第355條', '民法第214條,民法第18條,民法第215條,建築法第58條,建築法第63條,民法第216條,民法第793條,民法第800條,民法第800條之1,民法第213條,民法第184條,民法第195條,民法第767條,民法第195條,民法第185條,民法第191條之2', '公寓大廈管理條例第23條,民法第195條,公寓大廈管理條例第3條,公寓大廈管理條例第10條,公寓大廈管理條例第9條,公寓大廈管理條例第6條,公寓大廈管理條例第11條,公寓大廈管理條例第53條,民法第184條,民法第151條,民法第767條,民法第799條,民法第195條,民法第825條', '毒品危害防制條例第25條,中華民國刑法第237條,中華民國刑法第18條,中華民國刑法第31條,中華民國刑法第49條,中華民國刑法第91條之1', '勞動基準法第32條,勞動基準法第24條,勞動基準法第32條之1,勞動基準法第18條,勞動基準法第80條之1,勞動基準法第2條', '民法第1065條,民法第1063條,民法第1080條之1,民法第195條,民法第1055條', '消費者保護法第19條,消費者保護法第43條之1,消費者保護法第19條,消費者保護法第19條之1,消費者保護法第5條', '中華民國刑法第271條,中華民國刑法第43條,中華民國刑法第37條,中華民國刑法第348條', '民法第979條,民法第968條,民法第969條,民法第980條,民法第967條,民法第1116條之2,民法第195條,民法第1093條', '民法第425條之1,民法第425條,民法第426條,民法第822條,民法第799條,民法第825條', '中華民國刑法第339條,中華民國刑法第43條,中華民國刑法第38條之1,中華民國刑法第312條', '道路交通管理處罰條例第56條,民法第151條,民法第195條,民法第188條,民法第191條之2', '中華民國刑法第304條,中華民國刑法第137條,中華民國刑法第43條,中華民國刑法第90條', '民法第1187條,民法第1148條,民法第1145條,民法第1142條,民法第822條', '公平交易法第21條,地方政府衛生機關管理營業衛生辦法第3條,地方政府衛生機關管理營業衛生辦法第6條,地方政府衛生機關管理營業衛生辦法第4條,地方政府衛生機關管理營業衛生辦法第7條,攤販管理辦法第3條,公平交易法第24條,公平交易法第13條', '中華民國刑法第19條,中華民國刑法第229條,中華民國刑法第90條,中華民國刑法第38條之1', '刑事訴訟法第31條,刑事訴訟法第31條之1,刑事訴訟法第33條,刑事訴訟法第19條,刑事訴訟法第34條,刑事訴訟法第450條,刑事訴訟法第33條之1,刑事訴訟法第207條', '法院組織法第90條,法院組織法第95條,法院組織法第7-6條,法院組織法第7條之1,法院組織法第51條之5', '就業保險法第6條,就業保險法第5條,就業保險法第16條,就業保險法第19條,就業保險法第36條,就業保險法第6條', '民法第153條,民法第529條,民法第474條,民法第247條之1,民法第505條,民法第345條,民法第490條,民法第195條,民法第530條,民法第822條', '刑事訴訟法第379條,刑事訴訟法第377條,刑事訴訟法第376條,刑事訴訟法第377條,刑事訴訟法第491條,刑事訴訟法第369條', '民法第148條,中華民國刑法第277條,民法第195條,中華民國刑法第43條,民法第185條', '民法第1057條,民法第195條,民法第1116條之2,民法第1052條', '刑事訴訟法第35條,刑事訴訟法第34條,刑事訴訟法第33條,刑事訴訟法第33條之1,刑事訴訟法第450條,刑事訴訟法第207條', '民事訴訟法第466條之1,民事訴訟法第441條,民事訴訟法第477條之1,民事訴訟法第444條之1,民事訴訟法第436-10條', '勞動基準法第10條之1,傳染病防治法第37條,傳染病防治法第55條,傳染病防治法第36條,勞動基準法第80條之1,傳染病防治法第53條', '民法第184條,民法第195條,民法第185條,民法第191條之2', '總統副總統罷免法第15條,總統副總統罷免法第13條,中華民國憲法第35條,總統副總統罷免法第14條,中華民國憲法增修條文第2條,總統副總統罷免法第7條,總統副總統罷免法第2條,總統副總統罷免法第11條,中華民國憲法第69條,中華民國憲法第19條,中華民國憲法第22條,中華民國憲法增修條文第4條', '刑事訴訟法第176條,民事訴訟法第166條之1,刑事訴訟法第178條之1,刑事訴訟法第178條,民事訴訟法第396條,民事訴訟法第537條之1,民事訴訟法第500條', '民法第1145條,民法第1142條,民法第1144條,民法第1155條', '中華民國刑法第55條,中華民國刑法第216條,鐵路法第65條,中華民國刑法第43條,中華民國刑法第32條,中華民國刑法第199條', '中華民國刑法第41條,中華民國刑法第42條之1,中華民國刑法第42條,中華民國刑法第43條,中華民國刑法第49條,中華民國刑法第90條', '勞工保險條例第43條,勞工請假規則第7條,勞工保險條例第33條,勞動基準法第32條,勞工請假規則第3條,勞動基準法第24條,勞工保險條例第36條,勞工保險條例第43條之1,勞工保險條例第3條,勞動基準法第18條,勞動基準法第3條', '勞動基準法第35條,勞動基準法第30條,勞動基準法第84條之1,勞動基準法第32條,勞動基準法第24條,勞動基準法第3條,勞動基準法第18條,勞動基準法第5條', '民法第1065條,民法第1077條,民法第1145條,民法第195條,民法第1141條,民法第1176條', '刑事訴訟法第455條之1,刑事訴訟法第376條,刑事訴訟法第370條,刑事訴訟法第344條,刑事訴訟法第491條,刑事訴訟法第501條,刑事訴訟法第509條', '道路交通管理處罰條例第43條,道路交通管理處罰條例第63條,道路交通管理處罰條例第29條之1,道路交通管理處罰條例第7條之2', '工會法第6條,勞動基準法第29條,勞工保險條例第5條,勞工保險條例第8條,勞工保險條例第6條,勞動基準法第18條', '勞動基準法第35條,勞動基準法第35條,勞動基準法第80條之1,勞動基準法第36條', '刑事訴訟法第124條,刑事訴訟法第120條,刑事訴訟法第450條,刑事訴訟法第111條,刑事訴訟法第33條之1', '建築技術規則建築設計施工編第59條,都市計畫法第39條,都市計畫法第32條,都市計畫法第42條,都市計畫法第32條,都市計畫法第10條', '民法第1023條,民法第416條,民法第195條,民法第1030條之1,民法第825條', '民法第125條,民法第822條,民法第125條,民法第128條', '家庭暴力防治法第14條,家庭暴力防治法第13條,家庭暴力防治法第38條,家庭暴力防治法第3條,家庭暴力防治法第34條', '土地登記規則第31條,土地法第73條之1,土地法第73條之2,民法第759條,民法第825條,民法第822條,民法第195條', '勞動基準法第10條之1,勞動基準法第18條', '中華民國刑法第19條,中華民國刑法第20條,中華民國刑法第18條,中華民國刑法第43條,中華民國刑法第38條,中華民國刑法第77條', '動物保護法第3條,動物保護法第5條,動物保護法第25條,動物保護法第9條,動物保護法第25條,動物保護法第2條', '教育基本法第9條,中華民國憲法第156條,教育基本法第10條,教育基本法第8條,中華民國憲法第155條,教育基本法第9條,中華民國憲法第22條,中華民國憲法第14條', '工會法第35條,工會法第34條,工會法第36條,工會法第3條', '民法第423條,民法第424條,民法第421條,民法第422條,民法第799條,民法第185條,民法第825條', '就業服務法第42條,就業服務法第47條,就業服務法第56條,就業服務法第3條', '中華民國刑法第229條,中華民國刑法第241條,民法第1084條,中華民國刑法第227條,中華民國刑法第240條,民法第195條,民法第185條,民法第1052條', '中華民國刑法第309條,中華民國刑法第305條,中華民國刑法第43條,中華民國刑法第311條,中華民國刑法第229條', '醫療法第71條,勞動基準法第70條,醫療法第73條,醫療法第72條,勞動基準法第10條之1,醫療法第69條,勞動基準法第80條之1,醫療法第25條', '民法第1065條,民法第1094條,民法第1116條之2,民法第195條,民法第1078條', '中華民國憲法增修條文第1條,中華民國憲法增修條文第12條,憲法第3條,國民大會職權行使法第8條,中華民國憲法第1條,中華民國憲法第22條,中華民國憲法第14條,中華民國憲法第24條', '道路交通管理處罰條例第56條,道路交通管理處罰條例第55條,道路交通管理處罰條例第3條,道路交通管理處罰條例第8條,道路交通管理處罰條例第1條', '公職人員選舉罷免法第75條,公職人員選舉罷免法第104條,公職人員選舉罷免法第76條,公職人員選舉罷免法第79條', '民法第18條,中華民國刑法第310條,民法第195條之1,民法第184條,民法第195條之2,個人資料保護法第41條,個人資料保護法第20條,中華民國刑法第309條,民法第195條,民法第195條,民法第185條,中華民國刑法第15條', '勞動基準法第19條,勞動事件法第43條,勞動基準法第16條,勞動基準法第17條,勞動事件法第37條,勞動基準法第80條之1,勞動基準法第83條,勞動事件法第36條', '行政訴訟法第12條,行政訴訟法第8條,行政訴訟法第237條之3,行政訴訟法第4條,行政訴訟法第276條', '勞動基準法第3條,勞動基準法第11條,勞動基準法第20條,勞動基準法第16條,勞動基準法第14條之1,勞動基準法第17條,勞動基準法第22條,勞動基準法第2條,勞動基準法第80條之1,勞動基準法第18條,勞動基準法第13條', '民法第758條之1,民法第758條之2,民法第549條,民法第179條,民法第758條,民法第767條,民法第822條,民法第825條,民法第1174條', '民法第767條,民法第470條,民法第472條,民法第825條,民法第822條,民法第185條', '民法第151條之1,民法第151條,民法第767條,民法第195條,民法第185條,民法第1145條', '民法第796條之1,民法第796條,民法第767條,民法第195條,民法第185條,民法第822條', '民法第359條之1,民法第88條,民法第359條,民法第92條,民法第249條,民法第254條,民法第259條,民法第825條,民法第185條,民法第195條', '行政訴訟法第135條,行政訴訟法第132條,行政程序法第105條,行政訴訟法第133條,行政訴訟法第134條,行政訴訟法第275條,行政訴訟法第276條,行政訴訟法第4條', '少年事件處理法第42條,少年事件處理法第50條,少年事件處理法第62條,少年事件處理法第29條,少年事件處理法第1條之1,少年事件處理法第30條,少年事件處理法第69條', '建築法第101條,建築法第77條,建築法第99條,建築法第77條之2,建築法第97條,建築法第72條,建築法第58條,建築法第52條', '民法第1056條,民法第1057條,民法第1059條,民法第1003條之1,民法第1051條,民法第822條,民法第195條', '中華民國刑法第168條,刑事訴訟法第153條,中華民國刑法第165條,刑事訴訟法第159條之1,中華民國刑法第172條,刑事訴訟法第288條之1,中華民國刑法第43條', '民法第1065條,民法第195條,民法第1069條之1,民法第822條', '社會秩序維護法第68條,公寓大廈管理條例第47條,公寓大廈管理條例第16條,社會秩序維護法第30條,公寓大廈管理條例第3條,社會秩序維護法第29條', '個人資料保護法第20條,個人資料保護法第15條,個人資料保護法第16條,中華民國憲法第22條,中華民國憲法第22條,個人資料保護法第1條,中華民國憲法第23條', '中華民國刑法第306條,中華民國刑法第320條,中華民國刑法第44條,中華民國刑法第100條,中華民國刑法第38條之1', '中華民國憲法第73條,中華民國憲法第13條,中華民國憲法第22條,中華民國憲法第23條', '行政罰法第27條,行政罰法第14條,行政罰法第27條,行政罰法第10條', '個人資料保護法第2條,中華民國刑法第305條,個人資料保護法第41條,個人資料保護法第20條,個人資料保護法第1條,中華民國刑法第31條,中華民國刑法第49條', '民法第98條,民法第99條,民法第128條,民法第195條,民法第185條', '民法第1140條,民法第1111條,民法第1138條,民法第1112條,民法第195條,民法第1145條,民法第1156條之1', '勞動基準法第74條,勞動基準法第3條,勞動基準法第18條', '消費者保護法第17條,民法第249條,民法第185條,消費者保護法第19條,民法第822條', '勞動基準法第71條,勞動基準法第2條,勞動基準法第70條,勞動基準法第80條之1,勞動基準法第18條,勞動基準法第62條', '中華民國刑法第185條之5,中華民國刑法第185條之6,中華民國刑法第185條之4,中華民國刑法第185條之3,刑事訴訟法第99條,刑事訴訟法第450條,中華民國刑法第43條,中華民國刑法第77條', '中華民國刑法第287條之1,刑事訴訟法第228條,中華民國刑法第287條,刑事訴訟法第491條,刑事訴訟法第273條之1,刑事訴訟法第501條', '中華民國刑法第227條,中華民國刑法第227條之1,中華民國刑法第43條,中華民國刑法第229條', '勞工職業災害保險及保護法第31條,勞工職業災害保險及保護法第11條,勞工職業災害保險及保護法第3條,勞工職業災害保險及保護法第27條,勞工職業災害保險及保護法第2條,勞工職業災害保險及保護法第83條,勞工職業災害保險及保護法第25條', '個人資料保護法第2條,個人資料保護法第41條,個人資料保護法第20條,個人資料保護法第1條,個人資料保護法第30條,個人資料保護法第7條', '中華民國刑法第98條,中華民國刑法第74條,中華民國刑法第313條,中華民國刑法第310條,中華民國刑法第43條,中華民國刑法第41條,中華民國刑法第305條,中華民國刑法第97條,中華民國刑法第76條,中華民國刑法第92條,中華民國刑法第42條,中華民國刑法第51條,中華民國刑法第309條,中華民國刑法第31條,中華民國刑法第137條,中華民國刑法第339條之4', '中華民國刑法第354條,中華民國刑法第310條,中華民國刑法第277條,中華民國刑法第305條,中華民國刑法第306條,中華民國刑法第309條,中華民國刑法第344條,中華民國刑法第32條,中華民國刑法第355條', '刑事訴訟法第237條,中華民國刑法第227條,中華民國刑法第229條之1,中華民國刑法第43條,刑事訴訟法第450條', '中華民國刑法第164條,中華民國刑法第43條,中華民國刑法第31條,中華民國刑法第30條', '民法第88條,民法第359條,民法第92條,消費者保護法第19條,民法第360條,消費者保護法第43條,民法第254條,民法第195條,消費者保護法第19條,民法第185條', '刑事訴訟法第379條,刑事訴訟法第302條,刑事訴訟法第119條之,刑事訴訟法第509條,刑事訴訟法第450條', '勞動基準法第12條,勞動基準法第9條之1,勞動基準法第11條,勞動基準法第80條之1,勞動基準法第18條,勞動基準法第5條', '民法第988條,民法第1052條,民法第985條,民法第195條,民法第185條,民法第1030條之1', '中華民國刑法第320條,中華民國刑法第43條,中華民國刑法第38條之1,中華民國刑法第31條', '中華民國刑法第19條,刑事訴訟法第31條之1,刑事訴訟法第31條,刑事訴訟法第450條,中華民國刑法第15條,中華民國刑法第90條', '就業服務法第74條,就業服務法第73條,就業服務法第56條,就業服務法第57條,就業服務法第72條,就業服務法第59條,就業服務法第35條,就業服務法第3條,就業服務法第72條', '中華民國刑法第354條,中華民國刑法第355條,中華民國刑法第31條,中華民國刑法第137條', '民法第214條,民法第215條,民法第216條,民法第213條,民法第184條,民法第191條,民法第196條,民法第767條,民法第195條,民法第822條,民法第185條', '勞工保險條例第11條,勞動基準法第84條之2,勞工退休金條例第11條,勞工退休金條例第3條', '民法第1164條,民法第1145條,民法第1144條,民法第1151條,民法第1178條,民法第1148條,民法第1177條,民法第822條,民法第1144條,民法第1142條', '民法第129條,民法第125條,民法第137條,民法第822條,民法第128條,民法第1156條之1', '勞動基準法第37條,勞動基準法第39條,勞動基準法第18條,勞動基準法第80條之1,勞動基準法第35條', '民法第365條,民法第359條,民法第195條,民法第217條,民法第364條', '公平交易法第22條,公平交易法第24條,公平交易法第20條,公平交易法第24條,公平交易法第29條,公平交易法第41條', '中華民國刑法第157條,中華民國刑法第214條,中華民國刑法第158條,中華民國刑法第215條,中華民國刑法第216條,中華民國刑法第31條,中華民國刑法第43條,中華民國刑法第38條之1', '民法第184條,中華民國刑法第306條,民法第195條,民法第185條,民法第188條', '土地法第104條,土地法第104條', '勞動基準法第24條,勞動基準法第32條之1,勞動基準法第83條,勞動基準法第3條,勞動基準法第80條之1', '民法第31條,民法第19條,民法第18條,民法第195條,民法第185條,民法第822條', '商標法第36條,商標法第68條,商標法第67條,商標法第37條,商標法第31條', '行政程序法第165條,行政訴訟法第8條,行政程序法第150條,行政訴訟法第276條,行政訴訟法第4條,行政訴訟法第237條之3', '民法第1142條,民法第1077條,民法第822條,民法第1142條,民法第1144條', '中華民國憲法第130條,公民投票法第23條,中華民國憲法第132條,中華民國憲法第19條,中華民國憲法第22條,公民投票法第18條', '中華民國刑法第220條,民法第3條,民法第7條,電子簽章法第3條,民法第5條,民法第6條,電子簽章法第3條,民法第822條,電子簽章法第15條', '刑事訴訟法第95條,刑事訴訟法第450條,刑事訴訟法第33條之1,刑事訴訟法第207條', '中華民國刑法第288條,中華民國刑法第306條,中華民國刑法第289條,中華民國刑法第298條,中華民國刑法第290條,中華民國刑法第43條,中華民國刑法第229條', '中華民國刑法第305條,中華民國刑法第304條,中華民國刑法第268條,中華民國刑法第31條,中華民國刑法第229條', '勞工保險條例第29條,勞工健康保護規則第9條,勞工健康保護規則第7條,勞工保險條例第58條之1,勞工保險條例第27條,勞工保險條例第3條', '家庭暴力防治法第66條,家庭暴力防治法第3條,家庭暴力防治法第16條,家庭暴力防治法第67條,家庭暴力防治法第54條,家庭暴力防治法第14條,家庭暴力防治法第23條,家庭暴力防治法第63條,家庭暴力防治法第68條,家庭暴力防治法第2條,家庭暴力防治法第15條,家庭暴力防治法第29條,家庭暴力防治法第3條,家庭暴力防治法第12條', '監獄行刑法施行細則第73條,', '中華民國刑法第286條,民法第72條,中華民國刑法第284條,中華民國刑法第277條,民法第195條,中華民國刑法第31條,中華民國刑法第43條', '中華民國刑法第309條,中華民國刑法第305條,中華民國刑法第43條,中華民國刑法第304條,中華民國刑法第137條', '商標法第95條,商標法第97條,商標法第67條,商標法第77條,商標法第37條', '民法第71條,民法第74條,民法第73條,民法第205條,民法第72條,民法第75條,民法第75條之1,民法第195條,民法第185條,民法第127條', '勞動基準法第10條之1,勞動基準法第18條,勞動基準法第3條,勞動基準法第17條', '銀行法第29條,銀行法第125條,銀行法第29條之1,', '中華民國刑法第315條之1,中華民國刑法第31條,中華民國刑法第38條,中華民國刑法第43條', '道路交通管理處罰條例第21條,民法第184條,中華民國刑法第185條之4,民法第185條,中華民國刑法第43條,民法第195條,民法第185條', '消費者保護法第19條,消費者保護法第19條,消費者保護法第5條,消費者保護法第19條', '道路交通管理處罰條例第56條,中華民國刑法第284條,中華民國刑法第49條,中華民國刑法第43條,中華民國刑法第38條之1', '道路交通管理處罰條例第44條,道路交通管理處罰條例第3條,道路交通標誌標線號誌設定規則第221條,道路交通管理處罰條例第60條,道路交通管理處罰條例第48條,道路交通標誌標線號誌設定規則第224條,道路交通管理處罰條例第3條,道路交通管理處罰條例第8條,道路交通管理處罰條例第5條', '教師法第42條,', '公司法第23條,公司法第22條,公司法第18條,公司法第8條,公司法第21條,公司法第19條', '勞動基準法第43條,勞動基準法第38條,勞動基準法第80條之1,勞動基準法第18條,勞動基準法第83條', '公民投票法第25條,公民投票法第10條,公民投票法第33條,公民投票法第34條,公民投票法第20條,公民投票法第23條,公民投票法第27條,公民投票法第24條,公民投票法第18條,公民投票法第12條,公民投票法第19條', '刑事訴訟法第420條,中華民國刑法第422條,刑事訴訟法第302條,刑事訴訟法第368條,刑事訴訟法第490條,刑事訴訟法第9條', '嚴重特殊傳染性肺炎防治及紓困振興特別條例第7條,嚴重特殊傳染性肺炎防治及紓困振興特別條例第11條,', '民法第1138條,民法第1145條,民法第1142條,民法第1120條,民法第1155條', '民法第12條,民法第195條,民法第637條,民法第185條', '公路法第79條,公路法第77條之1,民法第197條,憲法訴訟法第52條,公路法第77條,訴願法第1條,行政訴訟法第116條,訴願法第3條,訴願法第4條,行政訴訟法第116條之1,行政程序法第111條,行政訴訟法第275條,民法第217條,訴願法第3條', '民事訴訟法第398條,民事訴訟法第444條之1,民事訴訟法第477條之1,民事訴訟法第395條', '土地徵收條例第28條,土地徵收條例第31條,土地徵收條例第10條,土地法第106條,土地法第105條,土地法第104條,土地徵收條例第3條,土地法第217條,土地徵收條例第20條', '道路交通管理處罰條例第92條,道路交通管理處罰條例第3條,道路交通管理處罰條例第7條之2,道路交通管理處罰條例第29條', '行政訴訟法第3條,行政訴訟法第5條,行政訴訟法第8條,行政訴訟法第6條,行政訴訟法第275條,行政訴訟法第4條,行政訴訟法第9條', '勞動基準法第32條,勞動基準法第80條之1,勞動基準法第13條,勞動基準法第18條', '中華民國刑法第210條,中華民國刑法第220條,中華民國刑法第212條,中華民國刑法第31條,中華民國刑法第43條,中華民國刑法第38條之1']}\n"
     ]
    }
   ],
   "source": [
    "top_k = 3\n",
    "out_dict = {'id':[], 'TARGET':[]}\n",
    "for i in range(len(aug_merge_df)):\n",
    "   \n",
    "    r = aug_merge_df.iloc[i]\n",
    "    out_dict['id'].append(r['id'])\n",
    "    t = r['TARGET']\n",
    "    ref = r['aug_law']\n",
    "\n",
    "    ref.sort(key = lambda x: x[0], reverse=True)\n",
    "    # print(ref)\n",
    "    select_law = ','.join([element[1] for element in ref[:top_k]])\n",
    "    out_dict['TARGET'].append(f'{t},{select_law}')\n",
    "\n",
    "\n",
    "print(out_dict)"
   ]
  },
  {
   "cell_type": "code",
   "execution_count": 91,
   "metadata": {},
   "outputs": [],
   "source": [
    "out_df = pd.DataFrame(out_dict)\n",
    "out_df.to_csv('./result_k=3.csv', index=False)  "
   ]
  },
  {
   "cell_type": "code",
   "execution_count": null,
   "metadata": {},
   "outputs": [],
   "source": []
  }
 ],
 "metadata": {
  "kernelspec": {
   "display_name": "qwen2",
   "language": "python",
   "name": "python3"
  },
  "language_info": {
   "codemirror_mode": {
    "name": "ipython",
    "version": 3
   },
   "file_extension": ".py",
   "mimetype": "text/x-python",
   "name": "python",
   "nbconvert_exporter": "python",
   "pygments_lexer": "ipython3",
   "version": "3.11.10"
  }
 },
 "nbformat": 4,
 "nbformat_minor": 2
}
