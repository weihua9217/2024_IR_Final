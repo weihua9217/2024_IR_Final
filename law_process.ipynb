{
 "cells": [
  {
   "cell_type": "code",
   "execution_count": 24,
   "metadata": {},
   "outputs": [],
   "source": [
    "from rtf_converter import rtf_to_txt"
   ]
  },
  {
   "cell_type": "code",
   "execution_count": 25,
   "metadata": {},
   "outputs": [],
   "source": [
    "import re\n",
    "\n",
    "def cut_law_text(law_text):\n",
    "    pattern = r'(第\\s\\d+(-\\d+)?\\s條.*?)(?=第\\s\\d+(-\\d+)?\\s條|$)'\n",
    "    laws = re.findall(pattern, law_text, re.DOTALL)\n",
    "    law_dict = {}\n",
    "    for law in laws:\n",
    "        title_match = re.match(r'(第\\s\\d+(-\\d+)?\\s條)', law[0])\n",
    "        if title_match:\n",
    "            title = title_match.group(0)\n",
    "            content = law[0][len(title):].strip()\n",
    "            law_dict[title] = content\n",
    "            \n",
    "    return law_dict"
   ]
  },
  {
   "cell_type": "code",
   "execution_count": 29,
   "metadata": {},
   "outputs": [],
   "source": [
    "import os\n",
    "import json\n",
    "law_path = './data/law/'\n",
    "law_folder = os.listdir(law_path)\n",
    "\n",
    "law = {}\n",
    "\n",
    "for folder in law_folder:\n",
    "    tmp_folder_path = os.path.join(law_path, folder)\n",
    "    f = os.listdir(tmp_folder_path)\n",
    "    with open(os.path.join(tmp_folder_path,f[0])) as infile:\n",
    "        text = infile.read()\n",
    "    plain_text = rtf_to_txt(text)\n",
    "    plain_text = plain_text.replace('\\n', ' ')\n",
    "    law_dict = cut_law_text(plain_text)\n",
    "    law[folder] = law_dict\n",
    "\n",
    "with open(f\"./law.json\", \"w\", encoding=\"utf-8\") as json_file:\n",
    "    json.dump(law, json_file, ensure_ascii=False, indent=4)"
   ]
  },
  {
   "cell_type": "code",
   "execution_count": null,
   "metadata": {},
   "outputs": [],
   "source": []
  }
 ],
 "metadata": {
  "kernelspec": {
   "display_name": "medical",
   "language": "python",
   "name": "python3"
  },
  "language_info": {
   "codemirror_mode": {
    "name": "ipython",
    "version": 3
   },
   "file_extension": ".py",
   "mimetype": "text/x-python",
   "name": "python",
   "nbconvert_exporter": "python",
   "pygments_lexer": "ipython3",
   "version": "3.11.10"
  }
 },
 "nbformat": 4,
 "nbformat_minor": 2
}
